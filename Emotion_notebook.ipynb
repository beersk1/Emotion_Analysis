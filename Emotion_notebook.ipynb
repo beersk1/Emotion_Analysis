{
 "cells": [
  {
   "cell_type": "markdown",
   "metadata": {},
   "source": [
    "# Importing libraries"
   ]
  },
  {
   "cell_type": "code",
   "execution_count": 1,
   "metadata": {
    "_cell_guid": "b1076dfc-b9ad-4769-8c92-a6c4dae69d19",
    "_uuid": "8f2839f25d086af736a60e9eeb907d3b93b6e0e5",
    "execution": {
     "iopub.execute_input": "2023-01-05T11:16:04.027704Z",
     "iopub.status.busy": "2023-01-05T11:16:04.027289Z",
     "iopub.status.idle": "2023-01-05T11:16:04.251182Z",
     "shell.execute_reply": "2023-01-05T11:16:04.250283Z",
     "shell.execute_reply.started": "2023-01-05T11:16:04.027667Z"
    }
   },
   "outputs": [
    {
     "name": "stderr",
     "output_type": "stream",
     "text": [
      "[nltk_data] Error loading omw-1.4: <urlopen error [WinError 10060] A\n",
      "[nltk_data]     connection attempt failed because the connected party\n",
      "[nltk_data]     did not properly respond after a period of time, or\n",
      "[nltk_data]     established connection failed because connected host\n",
      "[nltk_data]     has failed to respond>\n"
     ]
    },
    {
     "data": {
      "text/plain": [
       "False"
      ]
     },
     "execution_count": 1,
     "metadata": {},
     "output_type": "execute_result"
    }
   ],
   "source": [
    "import re\n",
    "import nltk\n",
    "import string\n",
    "import numpy as np\n",
    "import pandas as pd\n",
    "import seaborn as sns\n",
    "import matplotlib.pyplot as plt\n",
    "from nltk.corpus import stopwords\n",
    "from nltk.stem import SnowballStemmer, WordNetLemmatizer\n",
    "from sklearn.feature_extraction.text import TfidfVectorizer\n",
    "\n",
    "from sklearn.preprocessing import LabelEncoder\n",
    "from sklearn.model_selection import train_test_split\n",
    "\n",
    "from tensorflow.keras.utils import to_categorical\n",
    "from tensorflow.keras.preprocessing.text import Tokenizer\n",
    "from tensorflow.keras.preprocessing.sequence import pad_sequences\n",
    "\n",
    "from tensorflow.keras.optimizers import Adam\n",
    "from tensorflow.keras.models import Sequential\n",
    "from tensorflow.keras.callbacks import EarlyStopping\n",
    "from tensorflow.keras.layers import Dense, LSTM, Embedding, Bidirectional\n",
    "\n",
    "#nltk.download(\"stopwords\")\n",
    "stop_words = set(stopwords.words(\"english\"))\n",
    "lemmatizer= WordNetLemmatizer()\n",
    "\n",
    "# Modelling\n",
    "from sklearn.model_selection import train_test_split,KFold, GridSearchCV\n",
    "from sklearn.ensemble import RandomForestClassifier\n",
    "from sklearn.linear_model import LogisticRegression\n",
    "from sklearn.tree import DecisionTreeClassifier\n",
    "from sklearn.ensemble import RandomForestClassifier\n",
    "from sklearn.metrics import accuracy_score,confusion_matrix, classification_report\n",
    "from sklearn.pipeline import Pipeline\n",
    "from sklearn.metrics import f1_score\n",
    "from sklearn.svm import SVC\n",
    "\n",
    "#Lime\n",
    "from lime import lime_text\n",
    "from lime.lime_text import LimeTextExplainer\n",
    "from lime.lime_text import IndexedString,IndexedCharacters\n",
    "from lime.lime_base import LimeBase\n",
    "from lime.lime_text import explanation\n",
    "sns.set(font_scale=1.3)\n",
    "nltk.download('omw-1.4')"
   ]
  },
  {
   "cell_type": "code",
   "execution_count": 4,
   "metadata": {
    "execution": {
     "iopub.execute_input": "2023-01-05T10:09:53.483999Z",
     "iopub.status.busy": "2023-01-05T10:09:53.483044Z",
     "iopub.status.idle": "2023-01-05T10:09:53.532993Z",
     "shell.execute_reply": "2023-01-05T10:09:53.531888Z",
     "shell.execute_reply.started": "2023-01-05T10:09:53.483969Z"
    }
   },
   "outputs": [],
   "source": [
    "# Read datasets\n",
    "df_train = pd.read_csv(r\"C:\\Users\\kabee\\OneDrive\\Desktop\\end2end-nlp-project-main\\data\\train.txt\", names=['Text', 'Emotion'], sep=';')\n",
    "df_val = pd.read_csv(r\"C:\\Users\\kabee\\OneDrive\\Desktop\\end2end-nlp-project-main\\data\\val.txt\", names=['Text', 'Emotion'], sep=';')\n",
    "df_test = pd.read_csv(r\"C:\\Users\\kabee\\OneDrive\\Desktop\\end2end-nlp-project-main\\data\\test.txt\", names=['Text', 'Emotion'], sep=';')"
   ]
  },
  {
   "cell_type": "code",
   "execution_count": 5,
   "metadata": {
    "execution": {
     "iopub.execute_input": "2023-01-05T10:09:53.535264Z",
     "iopub.status.busy": "2023-01-05T10:09:53.534437Z",
     "iopub.status.idle": "2023-01-05T10:09:53.547649Z",
     "shell.execute_reply": "2023-01-05T10:09:53.546814Z",
     "shell.execute_reply.started": "2023-01-05T10:09:53.535228Z"
    }
   },
   "outputs": [
    {
     "data": {
      "text/html": [
       "<div>\n",
       "<style scoped>\n",
       "    .dataframe tbody tr th:only-of-type {\n",
       "        vertical-align: middle;\n",
       "    }\n",
       "\n",
       "    .dataframe tbody tr th {\n",
       "        vertical-align: top;\n",
       "    }\n",
       "\n",
       "    .dataframe thead th {\n",
       "        text-align: right;\n",
       "    }\n",
       "</style>\n",
       "<table border=\"1\" class=\"dataframe\">\n",
       "  <thead>\n",
       "    <tr style=\"text-align: right;\">\n",
       "      <th></th>\n",
       "      <th>Text</th>\n",
       "      <th>Emotion</th>\n",
       "    </tr>\n",
       "  </thead>\n",
       "  <tbody>\n",
       "    <tr>\n",
       "      <th>0</th>\n",
       "      <td>i didnt feel humiliated</td>\n",
       "      <td>sadness</td>\n",
       "    </tr>\n",
       "    <tr>\n",
       "      <th>1</th>\n",
       "      <td>i can go from feeling so hopeless to so damned...</td>\n",
       "      <td>sadness</td>\n",
       "    </tr>\n",
       "    <tr>\n",
       "      <th>2</th>\n",
       "      <td>im grabbing a minute to post i feel greedy wrong</td>\n",
       "      <td>anger</td>\n",
       "    </tr>\n",
       "    <tr>\n",
       "      <th>3</th>\n",
       "      <td>i am ever feeling nostalgic about the fireplac...</td>\n",
       "      <td>love</td>\n",
       "    </tr>\n",
       "    <tr>\n",
       "      <th>4</th>\n",
       "      <td>i am feeling grouchy</td>\n",
       "      <td>anger</td>\n",
       "    </tr>\n",
       "  </tbody>\n",
       "</table>\n",
       "</div>"
      ],
      "text/plain": [
       "                                                Text  Emotion\n",
       "0                            i didnt feel humiliated  sadness\n",
       "1  i can go from feeling so hopeless to so damned...  sadness\n",
       "2   im grabbing a minute to post i feel greedy wrong    anger\n",
       "3  i am ever feeling nostalgic about the fireplac...     love\n",
       "4                               i am feeling grouchy    anger"
      ]
     },
     "execution_count": 5,
     "metadata": {},
     "output_type": "execute_result"
    }
   ],
   "source": [
    "#print first 5 rows\n",
    "df_train.head()"
   ]
  },
  {
   "cell_type": "code",
   "execution_count": 6,
   "metadata": {
    "execution": {
     "iopub.execute_input": "2023-01-05T10:09:53.551257Z",
     "iopub.status.busy": "2023-01-05T10:09:53.550607Z",
     "iopub.status.idle": "2023-01-05T10:09:53.558026Z",
     "shell.execute_reply": "2023-01-05T10:09:53.556934Z",
     "shell.execute_reply.started": "2023-01-05T10:09:53.551220Z"
    }
   },
   "outputs": [
    {
     "name": "stdout",
     "output_type": "stream",
     "text": [
      "(16000, 2)\n"
     ]
    }
   ],
   "source": [
    "#print the shape of the data set\n",
    "print(df_train.shape)"
   ]
  },
  {
   "cell_type": "code",
   "execution_count": 7,
   "metadata": {
    "execution": {
     "iopub.execute_input": "2023-01-05T10:09:53.559917Z",
     "iopub.status.busy": "2023-01-05T10:09:53.559553Z",
     "iopub.status.idle": "2023-01-05T10:09:53.574946Z",
     "shell.execute_reply": "2023-01-05T10:09:53.573958Z",
     "shell.execute_reply.started": "2023-01-05T10:09:53.559883Z"
    }
   },
   "outputs": [
    {
     "data": {
      "text/html": [
       "<div>\n",
       "<style scoped>\n",
       "    .dataframe tbody tr th:only-of-type {\n",
       "        vertical-align: middle;\n",
       "    }\n",
       "\n",
       "    .dataframe tbody tr th {\n",
       "        vertical-align: top;\n",
       "    }\n",
       "\n",
       "    .dataframe thead th {\n",
       "        text-align: right;\n",
       "    }\n",
       "</style>\n",
       "<table border=\"1\" class=\"dataframe\">\n",
       "  <thead>\n",
       "    <tr style=\"text-align: right;\">\n",
       "      <th></th>\n",
       "      <th>Text</th>\n",
       "      <th>Emotion</th>\n",
       "    </tr>\n",
       "  </thead>\n",
       "  <tbody>\n",
       "    <tr>\n",
       "      <th>0</th>\n",
       "      <td>im feeling rather rotten so im not very ambiti...</td>\n",
       "      <td>sadness</td>\n",
       "    </tr>\n",
       "    <tr>\n",
       "      <th>1</th>\n",
       "      <td>im updating my blog because i feel shitty</td>\n",
       "      <td>sadness</td>\n",
       "    </tr>\n",
       "    <tr>\n",
       "      <th>2</th>\n",
       "      <td>i never make her separate from me because i do...</td>\n",
       "      <td>sadness</td>\n",
       "    </tr>\n",
       "    <tr>\n",
       "      <th>3</th>\n",
       "      <td>i left with my bouquet of red and yellow tulip...</td>\n",
       "      <td>joy</td>\n",
       "    </tr>\n",
       "    <tr>\n",
       "      <th>4</th>\n",
       "      <td>i was feeling a little vain when i did this one</td>\n",
       "      <td>sadness</td>\n",
       "    </tr>\n",
       "  </tbody>\n",
       "</table>\n",
       "</div>"
      ],
      "text/plain": [
       "                                                Text  Emotion\n",
       "0  im feeling rather rotten so im not very ambiti...  sadness\n",
       "1          im updating my blog because i feel shitty  sadness\n",
       "2  i never make her separate from me because i do...  sadness\n",
       "3  i left with my bouquet of red and yellow tulip...      joy\n",
       "4    i was feeling a little vain when i did this one  sadness"
      ]
     },
     "execution_count": 7,
     "metadata": {},
     "output_type": "execute_result"
    }
   ],
   "source": [
    "#print first 5 rows\n",
    "df_test.head()"
   ]
  },
  {
   "cell_type": "code",
   "execution_count": 8,
   "metadata": {
    "execution": {
     "iopub.execute_input": "2023-01-05T10:09:53.576955Z",
     "iopub.status.busy": "2023-01-05T10:09:53.576324Z",
     "iopub.status.idle": "2023-01-05T10:09:53.584948Z",
     "shell.execute_reply": "2023-01-05T10:09:53.583919Z",
     "shell.execute_reply.started": "2023-01-05T10:09:53.576911Z"
    }
   },
   "outputs": [
    {
     "name": "stdout",
     "output_type": "stream",
     "text": [
      "(2000, 2)\n"
     ]
    }
   ],
   "source": [
    "#print the shape of the data set\n",
    "print(df_test.shape)"
   ]
  },
  {
   "cell_type": "code",
   "execution_count": 9,
   "metadata": {
    "execution": {
     "iopub.execute_input": "2023-01-05T10:09:53.587142Z",
     "iopub.status.busy": "2023-01-05T10:09:53.586527Z",
     "iopub.status.idle": "2023-01-05T10:09:53.599861Z",
     "shell.execute_reply": "2023-01-05T10:09:53.598775Z",
     "shell.execute_reply.started": "2023-01-05T10:09:53.587055Z"
    }
   },
   "outputs": [
    {
     "data": {
      "text/html": [
       "<div>\n",
       "<style scoped>\n",
       "    .dataframe tbody tr th:only-of-type {\n",
       "        vertical-align: middle;\n",
       "    }\n",
       "\n",
       "    .dataframe tbody tr th {\n",
       "        vertical-align: top;\n",
       "    }\n",
       "\n",
       "    .dataframe thead th {\n",
       "        text-align: right;\n",
       "    }\n",
       "</style>\n",
       "<table border=\"1\" class=\"dataframe\">\n",
       "  <thead>\n",
       "    <tr style=\"text-align: right;\">\n",
       "      <th></th>\n",
       "      <th>Text</th>\n",
       "      <th>Emotion</th>\n",
       "    </tr>\n",
       "  </thead>\n",
       "  <tbody>\n",
       "    <tr>\n",
       "      <th>0</th>\n",
       "      <td>im feeling quite sad and sorry for myself but ...</td>\n",
       "      <td>sadness</td>\n",
       "    </tr>\n",
       "    <tr>\n",
       "      <th>1</th>\n",
       "      <td>i feel like i am still looking at a blank canv...</td>\n",
       "      <td>sadness</td>\n",
       "    </tr>\n",
       "    <tr>\n",
       "      <th>2</th>\n",
       "      <td>i feel like a faithful servant</td>\n",
       "      <td>love</td>\n",
       "    </tr>\n",
       "    <tr>\n",
       "      <th>3</th>\n",
       "      <td>i am just feeling cranky and blue</td>\n",
       "      <td>anger</td>\n",
       "    </tr>\n",
       "    <tr>\n",
       "      <th>4</th>\n",
       "      <td>i can have for a treat or if i am feeling festive</td>\n",
       "      <td>joy</td>\n",
       "    </tr>\n",
       "  </tbody>\n",
       "</table>\n",
       "</div>"
      ],
      "text/plain": [
       "                                                Text  Emotion\n",
       "0  im feeling quite sad and sorry for myself but ...  sadness\n",
       "1  i feel like i am still looking at a blank canv...  sadness\n",
       "2                     i feel like a faithful servant     love\n",
       "3                  i am just feeling cranky and blue    anger\n",
       "4  i can have for a treat or if i am feeling festive      joy"
      ]
     },
     "execution_count": 9,
     "metadata": {},
     "output_type": "execute_result"
    }
   ],
   "source": [
    "#print first 5 rows\n",
    "df_val.head()"
   ]
  },
  {
   "cell_type": "code",
   "execution_count": 10,
   "metadata": {
    "execution": {
     "iopub.execute_input": "2023-01-05T10:09:53.602308Z",
     "iopub.status.busy": "2023-01-05T10:09:53.601408Z",
     "iopub.status.idle": "2023-01-05T10:09:53.610138Z",
     "shell.execute_reply": "2023-01-05T10:09:53.609058Z",
     "shell.execute_reply.started": "2023-01-05T10:09:53.602263Z"
    }
   },
   "outputs": [
    {
     "name": "stdout",
     "output_type": "stream",
     "text": [
      "(2000, 2)\n"
     ]
    }
   ],
   "source": [
    "#print the shape of the data set\n",
    "print(df_val.shape)"
   ]
  },
  {
   "cell_type": "markdown",
   "metadata": {},
   "source": [
    "# Assessing"
   ]
  },
  {
   "cell_type": "markdown",
   "metadata": {
    "execution": {
     "iopub.execute_input": "2022-12-02T07:56:50.581818Z",
     "iopub.status.busy": "2022-12-02T07:56:50.581537Z",
     "iopub.status.idle": "2022-12-02T07:56:50.594699Z",
     "shell.execute_reply": "2022-12-02T07:56:50.593728Z",
     "shell.execute_reply.started": "2022-12-02T07:56:50.581770Z"
    }
   },
   "source": [
    "## Train dataset"
   ]
  },
  {
   "cell_type": "code",
   "execution_count": 11,
   "metadata": {
    "execution": {
     "iopub.execute_input": "2023-01-05T10:09:53.612551Z",
     "iopub.status.busy": "2023-01-05T10:09:53.611764Z",
     "iopub.status.idle": "2023-01-05T10:09:53.623784Z",
     "shell.execute_reply": "2023-01-05T10:09:53.622561Z",
     "shell.execute_reply.started": "2023-01-05T10:09:53.612509Z"
    }
   },
   "outputs": [
    {
     "data": {
      "text/plain": [
       "joy         5362\n",
       "sadness     4666\n",
       "anger       2159\n",
       "fear        1937\n",
       "love        1304\n",
       "surprise     572\n",
       "Name: Emotion, dtype: int64"
      ]
     },
     "execution_count": 11,
     "metadata": {},
     "output_type": "execute_result"
    }
   ],
   "source": [
    "#check if the data is balanced or not\n",
    "df_train.Emotion.value_counts()"
   ]
  },
  {
   "cell_type": "code",
   "execution_count": 12,
   "metadata": {
    "execution": {
     "iopub.execute_input": "2023-01-05T10:09:53.629150Z",
     "iopub.status.busy": "2023-01-05T10:09:53.628444Z",
     "iopub.status.idle": "2023-01-05T10:09:53.640209Z",
     "shell.execute_reply": "2023-01-05T10:09:53.639099Z",
     "shell.execute_reply.started": "2023-01-05T10:09:53.629113Z"
    }
   },
   "outputs": [
    {
     "data": {
      "text/plain": [
       "joy         33.51250\n",
       "sadness     29.16250\n",
       "anger       13.49375\n",
       "fear        12.10625\n",
       "love         8.15000\n",
       "surprise     3.57500\n",
       "Name: Emotion, dtype: float64"
      ]
     },
     "execution_count": 12,
     "metadata": {},
     "output_type": "execute_result"
    }
   ],
   "source": [
    "#check if the data is balanced or not\n",
    "df_train.Emotion.value_counts() / df_train.shape[0] *100"
   ]
  },
  {
   "cell_type": "code",
   "execution_count": 13,
   "metadata": {
    "execution": {
     "iopub.execute_input": "2023-01-05T10:09:53.642687Z",
     "iopub.status.busy": "2023-01-05T10:09:53.641892Z",
     "iopub.status.idle": "2023-01-05T10:09:53.976859Z",
     "shell.execute_reply": "2023-01-05T10:09:53.975068Z",
     "shell.execute_reply.started": "2023-01-05T10:09:53.642642Z"
    }
   },
   "outputs": [
    {
     "data": {
      "image/png": "[encoded data removed]",
      "text/plain": [
       "<Figure size 800x400 with 1 Axes>"
      ]
     },
     "metadata": {},
     "output_type": "display_data"
    }
   ],
   "source": [
    "plt.figure(figsize=(8,4))\n",
    "sns.countplot(x='Emotion', data=df_train);"
   ]
  },
  {
   "cell_type": "markdown",
   "metadata": {},
   "source": [
    "The data is imbalanced so, we may try to balance it but also, the emotions that we interested in are the most repeated emotion so, till now we can keep the data as it is"
   ]
  },
  {
   "cell_type": "code",
   "execution_count": 14,
   "metadata": {
    "execution": {
     "iopub.execute_input": "2023-01-05T10:09:53.984527Z",
     "iopub.status.busy": "2023-01-05T10:09:53.980729Z",
     "iopub.status.idle": "2023-01-05T10:09:54.000615Z",
     "shell.execute_reply": "2023-01-05T10:09:53.999494Z",
     "shell.execute_reply.started": "2023-01-05T10:09:53.984473Z"
    }
   },
   "outputs": [
    {
     "data": {
      "text/plain": [
       "Text       0\n",
       "Emotion    0\n",
       "dtype: int64"
      ]
     },
     "execution_count": 14,
     "metadata": {},
     "output_type": "execute_result"
    }
   ],
   "source": [
    "#print the number of null values in each column\n",
    "df_train.isnull().sum()"
   ]
  },
  {
   "cell_type": "markdown",
   "metadata": {},
   "source": [
    "The data doesn't contains any null values"
   ]
  },
  {
   "cell_type": "code",
   "execution_count": 15,
   "metadata": {
    "execution": {
     "iopub.execute_input": "2023-01-05T10:09:54.006970Z",
     "iopub.status.busy": "2023-01-05T10:09:54.004560Z",
     "iopub.status.idle": "2023-01-05T10:09:54.028120Z",
     "shell.execute_reply": "2023-01-05T10:09:54.027301Z",
     "shell.execute_reply.started": "2023-01-05T10:09:54.006932Z"
    }
   },
   "outputs": [
    {
     "data": {
      "text/plain": [
       "1"
      ]
     },
     "execution_count": 15,
     "metadata": {},
     "output_type": "execute_result"
    }
   ],
   "source": [
    "#print the number of duplicated values \n",
    "df_train.duplicated().sum()"
   ]
  },
  {
   "cell_type": "markdown",
   "metadata": {},
   "source": [
    "There is just one row which is duplicated but we need to check also if there are rows having the same text but different emotions"
   ]
  },
  {
   "cell_type": "code",
   "execution_count": 16,
   "metadata": {
    "execution": {
     "iopub.execute_input": "2023-01-05T10:09:54.034519Z",
     "iopub.status.busy": "2023-01-05T10:09:54.031808Z",
     "iopub.status.idle": "2023-01-05T10:09:54.053943Z",
     "shell.execute_reply": "2023-01-05T10:09:54.053047Z",
     "shell.execute_reply.started": "2023-01-05T10:09:54.034469Z"
    }
   },
   "outputs": [],
   "source": [
    "#removing duplicated values\n",
    "index = df_train[df_train.duplicated() == True].index\n",
    "df_train.drop(index, axis = 0, inplace = True)\n",
    "df_train.reset_index(inplace=True, drop = True)"
   ]
  },
  {
   "cell_type": "code",
   "execution_count": 17,
   "metadata": {
    "execution": {
     "iopub.execute_input": "2023-01-05T10:09:54.058261Z",
     "iopub.status.busy": "2023-01-05T10:09:54.057793Z",
     "iopub.status.idle": "2023-01-05T10:09:54.080663Z",
     "shell.execute_reply": "2023-01-05T10:09:54.079869Z",
     "shell.execute_reply.started": "2023-01-05T10:09:54.058227Z"
    }
   },
   "outputs": [
    {
     "data": {
      "text/html": [
       "<div>\n",
       "<style scoped>\n",
       "    .dataframe tbody tr th:only-of-type {\n",
       "        vertical-align: middle;\n",
       "    }\n",
       "\n",
       "    .dataframe tbody tr th {\n",
       "        vertical-align: top;\n",
       "    }\n",
       "\n",
       "    .dataframe thead th {\n",
       "        text-align: right;\n",
       "    }\n",
       "</style>\n",
       "<table border=\"1\" class=\"dataframe\">\n",
       "  <thead>\n",
       "    <tr style=\"text-align: right;\">\n",
       "      <th></th>\n",
       "      <th>Text</th>\n",
       "      <th>Emotion</th>\n",
       "    </tr>\n",
       "  </thead>\n",
       "  <tbody>\n",
       "    <tr>\n",
       "      <th>5067</th>\n",
       "      <td>i feel on the verge of tears from weariness i ...</td>\n",
       "      <td>joy</td>\n",
       "    </tr>\n",
       "    <tr>\n",
       "      <th>6133</th>\n",
       "      <td>i still feel a craving for sweet food</td>\n",
       "      <td>love</td>\n",
       "    </tr>\n",
       "    <tr>\n",
       "      <th>6563</th>\n",
       "      <td>i tend to stop breathing when i m feeling stre...</td>\n",
       "      <td>anger</td>\n",
       "    </tr>\n",
       "    <tr>\n",
       "      <th>7623</th>\n",
       "      <td>i was intensely conscious of how much cash i h...</td>\n",
       "      <td>sadness</td>\n",
       "    </tr>\n",
       "    <tr>\n",
       "      <th>7685</th>\n",
       "      <td>im still not sure why reilly feels the need to...</td>\n",
       "      <td>surprise</td>\n",
       "    </tr>\n",
       "    <tr>\n",
       "      <th>8246</th>\n",
       "      <td>i am not amazing or great at photography but i...</td>\n",
       "      <td>love</td>\n",
       "    </tr>\n",
       "    <tr>\n",
       "      <th>9596</th>\n",
       "      <td>ive also made it with both sugar measurements ...</td>\n",
       "      <td>joy</td>\n",
       "    </tr>\n",
       "    <tr>\n",
       "      <th>9687</th>\n",
       "      <td>i had to choose the sleek and smoother feel of...</td>\n",
       "      <td>joy</td>\n",
       "    </tr>\n",
       "    <tr>\n",
       "      <th>9769</th>\n",
       "      <td>i often find myself feeling assaulted by a mul...</td>\n",
       "      <td>sadness</td>\n",
       "    </tr>\n",
       "    <tr>\n",
       "      <th>9786</th>\n",
       "      <td>i feel im being generous with that statement</td>\n",
       "      <td>joy</td>\n",
       "    </tr>\n",
       "    <tr>\n",
       "      <th>10117</th>\n",
       "      <td>i feel pretty tortured because i work a job an...</td>\n",
       "      <td>fear</td>\n",
       "    </tr>\n",
       "    <tr>\n",
       "      <th>10581</th>\n",
       "      <td>i feel most passionate about</td>\n",
       "      <td>joy</td>\n",
       "    </tr>\n",
       "    <tr>\n",
       "      <th>11273</th>\n",
       "      <td>i was so stubborn and that it took you getting...</td>\n",
       "      <td>joy</td>\n",
       "    </tr>\n",
       "    <tr>\n",
       "      <th>11354</th>\n",
       "      <td>i write these words i feel sweet baby kicks fr...</td>\n",
       "      <td>love</td>\n",
       "    </tr>\n",
       "    <tr>\n",
       "      <th>11525</th>\n",
       "      <td>i feel a remembrance of the strange by justin ...</td>\n",
       "      <td>fear</td>\n",
       "    </tr>\n",
       "    <tr>\n",
       "      <th>11823</th>\n",
       "      <td>i have chose for myself that makes me feel ama...</td>\n",
       "      <td>joy</td>\n",
       "    </tr>\n",
       "    <tr>\n",
       "      <th>12441</th>\n",
       "      <td>i still feel completely accepted</td>\n",
       "      <td>love</td>\n",
       "    </tr>\n",
       "    <tr>\n",
       "      <th>12562</th>\n",
       "      <td>i feel so weird about it</td>\n",
       "      <td>surprise</td>\n",
       "    </tr>\n",
       "    <tr>\n",
       "      <th>12892</th>\n",
       "      <td>i cant escape the tears of sadness and just tr...</td>\n",
       "      <td>joy</td>\n",
       "    </tr>\n",
       "    <tr>\n",
       "      <th>13236</th>\n",
       "      <td>i feel like a tortured artist when i talk to her</td>\n",
       "      <td>anger</td>\n",
       "    </tr>\n",
       "    <tr>\n",
       "      <th>13879</th>\n",
       "      <td>i feel like i am very passionate about youtube...</td>\n",
       "      <td>love</td>\n",
       "    </tr>\n",
       "    <tr>\n",
       "      <th>14106</th>\n",
       "      <td>i feel kind of strange</td>\n",
       "      <td>surprise</td>\n",
       "    </tr>\n",
       "    <tr>\n",
       "      <th>14313</th>\n",
       "      <td>i could feel myself hit this strange foggy wall</td>\n",
       "      <td>surprise</td>\n",
       "    </tr>\n",
       "    <tr>\n",
       "      <th>14633</th>\n",
       "      <td>i feel pretty weird blogging about deodorant b...</td>\n",
       "      <td>fear</td>\n",
       "    </tr>\n",
       "    <tr>\n",
       "      <th>14925</th>\n",
       "      <td>i resorted to yesterday the post peak day of i...</td>\n",
       "      <td>fear</td>\n",
       "    </tr>\n",
       "    <tr>\n",
       "      <th>15314</th>\n",
       "      <td>i will feel as though i am accepted by as well...</td>\n",
       "      <td>joy</td>\n",
       "    </tr>\n",
       "    <tr>\n",
       "      <th>15328</th>\n",
       "      <td>i shy away from songs that talk about how i fe...</td>\n",
       "      <td>joy</td>\n",
       "    </tr>\n",
       "    <tr>\n",
       "      <th>15571</th>\n",
       "      <td>i bet taylor swift basks in the knowledge that...</td>\n",
       "      <td>anger</td>\n",
       "    </tr>\n",
       "    <tr>\n",
       "      <th>15704</th>\n",
       "      <td>i began to feel accepted by gaia on her own terms</td>\n",
       "      <td>joy</td>\n",
       "    </tr>\n",
       "    <tr>\n",
       "      <th>15875</th>\n",
       "      <td>i was sitting in the corner stewing in my own ...</td>\n",
       "      <td>anger</td>\n",
       "    </tr>\n",
       "  </tbody>\n",
       "</table>\n",
       "</div>"
      ],
      "text/plain": [
       "                                                    Text   Emotion\n",
       "5067   i feel on the verge of tears from weariness i ...       joy\n",
       "6133               i still feel a craving for sweet food      love\n",
       "6563   i tend to stop breathing when i m feeling stre...     anger\n",
       "7623   i was intensely conscious of how much cash i h...   sadness\n",
       "7685   im still not sure why reilly feels the need to...  surprise\n",
       "8246   i am not amazing or great at photography but i...      love\n",
       "9596   ive also made it with both sugar measurements ...       joy\n",
       "9687   i had to choose the sleek and smoother feel of...       joy\n",
       "9769   i often find myself feeling assaulted by a mul...   sadness\n",
       "9786        i feel im being generous with that statement       joy\n",
       "10117  i feel pretty tortured because i work a job an...      fear\n",
       "10581                       i feel most passionate about       joy\n",
       "11273  i was so stubborn and that it took you getting...       joy\n",
       "11354  i write these words i feel sweet baby kicks fr...      love\n",
       "11525  i feel a remembrance of the strange by justin ...      fear\n",
       "11823  i have chose for myself that makes me feel ama...       joy\n",
       "12441                   i still feel completely accepted      love\n",
       "12562                           i feel so weird about it  surprise\n",
       "12892  i cant escape the tears of sadness and just tr...       joy\n",
       "13236   i feel like a tortured artist when i talk to her     anger\n",
       "13879  i feel like i am very passionate about youtube...      love\n",
       "14106                             i feel kind of strange  surprise\n",
       "14313    i could feel myself hit this strange foggy wall  surprise\n",
       "14633  i feel pretty weird blogging about deodorant b...      fear\n",
       "14925  i resorted to yesterday the post peak day of i...      fear\n",
       "15314  i will feel as though i am accepted by as well...       joy\n",
       "15328  i shy away from songs that talk about how i fe...       joy\n",
       "15571  i bet taylor swift basks in the knowledge that...     anger\n",
       "15704  i began to feel accepted by gaia on her own terms       joy\n",
       "15875  i was sitting in the corner stewing in my own ...     anger"
      ]
     },
     "execution_count": 17,
     "metadata": {},
     "output_type": "execute_result"
    }
   ],
   "source": [
    "#print the rows which are duplicated (duplicated in the text but with different emotions)\n",
    "df_train[df_train['Text'].duplicated() == True]"
   ]
  },
  {
   "cell_type": "code",
   "execution_count": 18,
   "metadata": {
    "execution": {
     "iopub.execute_input": "2023-01-05T10:09:54.086830Z",
     "iopub.status.busy": "2023-01-05T10:09:54.084354Z",
     "iopub.status.idle": "2023-01-05T10:09:54.102754Z",
     "shell.execute_reply": "2023-01-05T10:09:54.101835Z",
     "shell.execute_reply.started": "2023-01-05T10:09:54.086794Z"
    }
   },
   "outputs": [
    {
     "data": {
      "text/html": [
       "<div>\n",
       "<style scoped>\n",
       "    .dataframe tbody tr th:only-of-type {\n",
       "        vertical-align: middle;\n",
       "    }\n",
       "\n",
       "    .dataframe tbody tr th {\n",
       "        vertical-align: top;\n",
       "    }\n",
       "\n",
       "    .dataframe thead th {\n",
       "        text-align: right;\n",
       "    }\n",
       "</style>\n",
       "<table border=\"1\" class=\"dataframe\">\n",
       "  <thead>\n",
       "    <tr style=\"text-align: right;\">\n",
       "      <th></th>\n",
       "      <th>Text</th>\n",
       "      <th>Emotion</th>\n",
       "    </tr>\n",
       "  </thead>\n",
       "  <tbody>\n",
       "    <tr>\n",
       "      <th>1625</th>\n",
       "      <td>i was intensely conscious of how much cash i h...</td>\n",
       "      <td>anger</td>\n",
       "    </tr>\n",
       "    <tr>\n",
       "      <th>7623</th>\n",
       "      <td>i was intensely conscious of how much cash i h...</td>\n",
       "      <td>sadness</td>\n",
       "    </tr>\n",
       "  </tbody>\n",
       "</table>\n",
       "</div>"
      ],
      "text/plain": [
       "                                                   Text  Emotion\n",
       "1625  i was intensely conscious of how much cash i h...    anger\n",
       "7623  i was intensely conscious of how much cash i h...  sadness"
      ]
     },
     "execution_count": 18,
     "metadata": {},
     "output_type": "execute_result"
    }
   ],
   "source": [
    "#print some of those rows to check\n",
    "df_train[df_train['Text'] == df_train.iloc[7623]['Text']]"
   ]
  },
  {
   "cell_type": "code",
   "execution_count": 19,
   "metadata": {
    "execution": {
     "iopub.execute_input": "2023-01-05T10:09:54.108766Z",
     "iopub.status.busy": "2023-01-05T10:09:54.106334Z",
     "iopub.status.idle": "2023-01-05T10:09:54.124849Z",
     "shell.execute_reply": "2023-01-05T10:09:54.124053Z",
     "shell.execute_reply.started": "2023-01-05T10:09:54.108731Z"
    }
   },
   "outputs": [
    {
     "data": {
      "text/html": [
       "<div>\n",
       "<style scoped>\n",
       "    .dataframe tbody tr th:only-of-type {\n",
       "        vertical-align: middle;\n",
       "    }\n",
       "\n",
       "    .dataframe tbody tr th {\n",
       "        vertical-align: top;\n",
       "    }\n",
       "\n",
       "    .dataframe thead th {\n",
       "        text-align: right;\n",
       "    }\n",
       "</style>\n",
       "<table border=\"1\" class=\"dataframe\">\n",
       "  <thead>\n",
       "    <tr style=\"text-align: right;\">\n",
       "      <th></th>\n",
       "      <th>Text</th>\n",
       "      <th>Emotion</th>\n",
       "    </tr>\n",
       "  </thead>\n",
       "  <tbody>\n",
       "    <tr>\n",
       "      <th>13653</th>\n",
       "      <td>i could feel myself hit this strange foggy wall</td>\n",
       "      <td>fear</td>\n",
       "    </tr>\n",
       "    <tr>\n",
       "      <th>14313</th>\n",
       "      <td>i could feel myself hit this strange foggy wall</td>\n",
       "      <td>surprise</td>\n",
       "    </tr>\n",
       "  </tbody>\n",
       "</table>\n",
       "</div>"
      ],
      "text/plain": [
       "                                                  Text   Emotion\n",
       "13653  i could feel myself hit this strange foggy wall      fear\n",
       "14313  i could feel myself hit this strange foggy wall  surprise"
      ]
     },
     "execution_count": 19,
     "metadata": {},
     "output_type": "execute_result"
    }
   ],
   "source": [
    "df_train[df_train['Text'] == df_train.iloc[14313]['Text']]\n"
   ]
  },
  {
   "cell_type": "code",
   "execution_count": 20,
   "metadata": {
    "execution": {
     "iopub.execute_input": "2023-01-05T10:09:54.131002Z",
     "iopub.status.busy": "2023-01-05T10:09:54.128574Z",
     "iopub.status.idle": "2023-01-05T10:09:54.146983Z",
     "shell.execute_reply": "2023-01-05T10:09:54.146155Z",
     "shell.execute_reply.started": "2023-01-05T10:09:54.130966Z"
    }
   },
   "outputs": [
    {
     "data": {
      "text/html": [
       "<div>\n",
       "<style scoped>\n",
       "    .dataframe tbody tr th:only-of-type {\n",
       "        vertical-align: middle;\n",
       "    }\n",
       "\n",
       "    .dataframe tbody tr th {\n",
       "        vertical-align: top;\n",
       "    }\n",
       "\n",
       "    .dataframe thead th {\n",
       "        text-align: right;\n",
       "    }\n",
       "</style>\n",
       "<table border=\"1\" class=\"dataframe\">\n",
       "  <thead>\n",
       "    <tr style=\"text-align: right;\">\n",
       "      <th></th>\n",
       "      <th>Text</th>\n",
       "      <th>Emotion</th>\n",
       "    </tr>\n",
       "  </thead>\n",
       "  <tbody>\n",
       "    <tr>\n",
       "      <th>7333</th>\n",
       "      <td>i feel like i am very passionate about youtube...</td>\n",
       "      <td>joy</td>\n",
       "    </tr>\n",
       "    <tr>\n",
       "      <th>13879</th>\n",
       "      <td>i feel like i am very passionate about youtube...</td>\n",
       "      <td>love</td>\n",
       "    </tr>\n",
       "  </tbody>\n",
       "</table>\n",
       "</div>"
      ],
      "text/plain": [
       "                                                    Text Emotion\n",
       "7333   i feel like i am very passionate about youtube...     joy\n",
       "13879  i feel like i am very passionate about youtube...    love"
      ]
     },
     "execution_count": 20,
     "metadata": {},
     "output_type": "execute_result"
    }
   ],
   "source": [
    "df_train[df_train['Text'] == df_train.iloc[13879]['Text']]\n"
   ]
  },
  {
   "cell_type": "code",
   "execution_count": 21,
   "metadata": {
    "execution": {
     "iopub.execute_input": "2023-01-05T10:09:54.153065Z",
     "iopub.status.busy": "2023-01-05T10:09:54.150496Z",
     "iopub.status.idle": "2023-01-05T10:09:54.164005Z",
     "shell.execute_reply": "2023-01-05T10:09:54.162824Z",
     "shell.execute_reply.started": "2023-01-05T10:09:54.153024Z"
    }
   },
   "outputs": [],
   "source": [
    "#removing duplicated text \n",
    "index = df_train[df_train['Text'].duplicated() == True].index\n",
    "df_train.drop(index, axis = 0, inplace = True)\n",
    "df_train.reset_index(inplace=True, drop = True)"
   ]
  },
  {
   "cell_type": "code",
   "execution_count": 22,
   "metadata": {
    "execution": {
     "iopub.execute_input": "2023-01-05T10:09:54.170905Z",
     "iopub.status.busy": "2023-01-05T10:09:54.168264Z",
     "iopub.status.idle": "2023-01-05T10:09:54.329762Z",
     "shell.execute_reply": "2023-01-05T10:09:54.328952Z",
     "shell.execute_reply.started": "2023-01-05T10:09:54.170855Z"
    }
   },
   "outputs": [
    {
     "data": {
      "text/plain": [
       "5     1416\n",
       "7     1405\n",
       "6     1392\n",
       "4     1341\n",
       "8     1319\n",
       "3     1263\n",
       "9     1177\n",
       "10    1048\n",
       "2      922\n",
       "11     889\n",
       "12     752\n",
       "13     644\n",
       "14     493\n",
       "1      450\n",
       "15     376\n",
       "16     265\n",
       "17     238\n",
       "18     164\n",
       "19     113\n",
       "20      90\n",
       "0       79\n",
       "21      60\n",
       "22      33\n",
       "23      19\n",
       "24       7\n",
       "25       6\n",
       "26       6\n",
       "28       1\n",
       "29       1\n",
       "Name: stop_words, dtype: int64"
      ]
     },
     "execution_count": 22,
     "metadata": {},
     "output_type": "execute_result"
    }
   ],
   "source": [
    "#Count the number of stopwords in the data\n",
    "temp =df_train.copy()\n",
    "stop_words = set(stopwords.words(\"english\"))\n",
    "temp['stop_words'] = temp['Text'].apply(lambda x: len(set(x.split()) & set(stop_words)))\n",
    "temp.stop_words.value_counts()"
   ]
  },
  {
   "cell_type": "markdown",
   "metadata": {},
   "source": [
    "The data contains alot of stopwords (some rows contains more than 25 stopword!) so, we need to take care when we remove them as some rows may become empty "
   ]
  },
  {
   "cell_type": "code",
   "execution_count": 23,
   "metadata": {
    "execution": {
     "iopub.execute_input": "2023-01-05T10:09:54.336164Z",
     "iopub.status.busy": "2023-01-05T10:09:54.333655Z",
     "iopub.status.idle": "2023-01-05T10:09:54.622320Z",
     "shell.execute_reply": "2023-01-05T10:09:54.621388Z",
     "shell.execute_reply.started": "2023-01-05T10:09:54.336126Z"
    }
   },
   "outputs": [
    {
     "data": {
      "text/plain": [
       "<AxesSubplot:ylabel='Frequency'>"
      ]
     },
     "execution_count": 23,
     "metadata": {},
     "output_type": "execute_result"
    },
    {
     "data": {
      "image/png": "[encoded data removed]",
      "text/plain": [
       "<Figure size 640x480 with 1 Axes>"
      ]
     },
     "metadata": {},
     "output_type": "display_data"
    }
   ],
   "source": [
    "#distribution of stopwords visually\n",
    "temp['stop_words'].plot(kind= 'hist')\n"
   ]
  },
  {
   "cell_type": "markdown",
   "metadata": {},
   "source": [
    "## Test dataset"
   ]
  },
  {
   "cell_type": "code",
   "execution_count": 24,
   "metadata": {
    "execution": {
     "iopub.execute_input": "2023-01-05T10:09:54.624394Z",
     "iopub.status.busy": "2023-01-05T10:09:54.623834Z",
     "iopub.status.idle": "2023-01-05T10:09:54.632104Z",
     "shell.execute_reply": "2023-01-05T10:09:54.631037Z",
     "shell.execute_reply.started": "2023-01-05T10:09:54.624121Z"
    }
   },
   "outputs": [
    {
     "data": {
      "text/plain": [
       "joy         695\n",
       "sadness     581\n",
       "anger       275\n",
       "fear        224\n",
       "love        159\n",
       "surprise     66\n",
       "Name: Emotion, dtype: int64"
      ]
     },
     "execution_count": 24,
     "metadata": {},
     "output_type": "execute_result"
    }
   ],
   "source": [
    "#check if the data is balanced or not\n",
    "df_test.Emotion.value_counts()"
   ]
  },
  {
   "cell_type": "code",
   "execution_count": 25,
   "metadata": {
    "execution": {
     "iopub.execute_input": "2023-01-05T10:09:54.634696Z",
     "iopub.status.busy": "2023-01-05T10:09:54.633690Z",
     "iopub.status.idle": "2023-01-05T10:09:54.854002Z",
     "shell.execute_reply": "2023-01-05T10:09:54.853021Z",
     "shell.execute_reply.started": "2023-01-05T10:09:54.634650Z"
    }
   },
   "outputs": [
    {
     "data": {
      "image/png": "[encoded data removed]",
      "text/plain": [
       "<Figure size 800x400 with 1 Axes>"
      ]
     },
     "metadata": {},
     "output_type": "display_data"
    }
   ],
   "source": [
    "plt.figure(figsize=(8,4))\n",
    "sns.countplot(x='Emotion', data=df_test);\n",
    "\n"
   ]
  },
  {
   "cell_type": "code",
   "execution_count": 26,
   "metadata": {
    "execution": {
     "iopub.execute_input": "2023-01-05T10:09:54.860871Z",
     "iopub.status.busy": "2023-01-05T10:09:54.860094Z",
     "iopub.status.idle": "2023-01-05T10:09:54.870549Z",
     "shell.execute_reply": "2023-01-05T10:09:54.869658Z",
     "shell.execute_reply.started": "2023-01-05T10:09:54.860834Z"
    }
   },
   "outputs": [
    {
     "data": {
      "text/plain": [
       "Text       0\n",
       "Emotion    0\n",
       "dtype: int64"
      ]
     },
     "execution_count": 26,
     "metadata": {},
     "output_type": "execute_result"
    }
   ],
   "source": [
    "#print the number of null values in each column\n",
    "df_test.isnull().sum()"
   ]
  },
  {
   "cell_type": "code",
   "execution_count": 27,
   "metadata": {
    "execution": {
     "iopub.execute_input": "2023-01-05T10:09:54.873531Z",
     "iopub.status.busy": "2023-01-05T10:09:54.872531Z",
     "iopub.status.idle": "2023-01-05T10:09:54.883866Z",
     "shell.execute_reply": "2023-01-05T10:09:54.882659Z",
     "shell.execute_reply.started": "2023-01-05T10:09:54.873489Z"
    }
   },
   "outputs": [
    {
     "data": {
      "text/plain": [
       "0"
      ]
     },
     "execution_count": 27,
     "metadata": {},
     "output_type": "execute_result"
    }
   ],
   "source": [
    "#print the number of duplicated values \n",
    "df_test.duplicated().sum()"
   ]
  },
  {
   "cell_type": "code",
   "execution_count": 28,
   "metadata": {
    "execution": {
     "iopub.execute_input": "2023-01-05T10:09:54.886161Z",
     "iopub.status.busy": "2023-01-05T10:09:54.885661Z",
     "iopub.status.idle": "2023-01-05T10:09:54.897041Z",
     "shell.execute_reply": "2023-01-05T10:09:54.895631Z",
     "shell.execute_reply.started": "2023-01-05T10:09:54.886125Z"
    }
   },
   "outputs": [
    {
     "data": {
      "text/html": [
       "<div>\n",
       "<style scoped>\n",
       "    .dataframe tbody tr th:only-of-type {\n",
       "        vertical-align: middle;\n",
       "    }\n",
       "\n",
       "    .dataframe tbody tr th {\n",
       "        vertical-align: top;\n",
       "    }\n",
       "\n",
       "    .dataframe thead th {\n",
       "        text-align: right;\n",
       "    }\n",
       "</style>\n",
       "<table border=\"1\" class=\"dataframe\">\n",
       "  <thead>\n",
       "    <tr style=\"text-align: right;\">\n",
       "      <th></th>\n",
       "      <th>Text</th>\n",
       "      <th>Emotion</th>\n",
       "    </tr>\n",
       "  </thead>\n",
       "  <tbody>\n",
       "  </tbody>\n",
       "</table>\n",
       "</div>"
      ],
      "text/plain": [
       "Empty DataFrame\n",
       "Columns: [Text, Emotion]\n",
       "Index: []"
      ]
     },
     "execution_count": 28,
     "metadata": {},
     "output_type": "execute_result"
    }
   ],
   "source": [
    "\n",
    "#print the rows which are duplicated\n",
    "df_test[df_test['Text'].duplicated() == True]\n",
    "\n"
   ]
  },
  {
   "cell_type": "code",
   "execution_count": 29,
   "metadata": {
    "execution": {
     "iopub.execute_input": "2023-01-05T10:09:54.898528Z",
     "iopub.status.busy": "2023-01-05T10:09:54.898246Z",
     "iopub.status.idle": "2023-01-05T10:09:54.923974Z",
     "shell.execute_reply": "2023-01-05T10:09:54.922899Z",
     "shell.execute_reply.started": "2023-01-05T10:09:54.898491Z"
    }
   },
   "outputs": [
    {
     "data": {
      "text/plain": [
       "7     184\n",
       "6     179\n",
       "3     175\n",
       "5     175\n",
       "4     163\n",
       "9     163\n",
       "8     139\n",
       "10    123\n",
       "2     118\n",
       "11    115\n",
       "12     84\n",
       "13     71\n",
       "15     61\n",
       "14     58\n",
       "1      42\n",
       "16     40\n",
       "17     31\n",
       "18     22\n",
       "20     17\n",
       "19     11\n",
       "21     10\n",
       "0       8\n",
       "23      7\n",
       "24      2\n",
       "22      2\n",
       "Name: stop_words, dtype: int64"
      ]
     },
     "execution_count": 29,
     "metadata": {},
     "output_type": "execute_result"
    }
   ],
   "source": [
    "#Count the number of stopwords in the data\n",
    "temp =df_test.copy()\n",
    "temp['stop_words'] = temp['Text'].apply(lambda x: len(set(x.split()) & set(stop_words)))\n",
    "temp.stop_words.value_counts()\n"
   ]
  },
  {
   "cell_type": "code",
   "execution_count": 30,
   "metadata": {
    "execution": {
     "iopub.execute_input": "2023-01-05T10:09:54.925886Z",
     "iopub.status.busy": "2023-01-05T10:09:54.925538Z",
     "iopub.status.idle": "2023-01-05T10:09:55.187831Z",
     "shell.execute_reply": "2023-01-05T10:09:55.186970Z",
     "shell.execute_reply.started": "2023-01-05T10:09:54.925852Z"
    }
   },
   "outputs": [
    {
     "data": {
      "text/plain": [
       "<AxesSubplot:ylabel='Frequency'>"
      ]
     },
     "execution_count": 30,
     "metadata": {},
     "output_type": "execute_result"
    },
    {
     "data": {
      "image/png": "[encoded data removed]",
      "text/plain": [
       "<Figure size 640x480 with 1 Axes>"
      ]
     },
     "metadata": {},
     "output_type": "display_data"
    }
   ],
   "source": [
    "sns.set(font_scale=1.3)\n",
    "temp['stop_words'].plot(kind= 'hist')"
   ]
  },
  {
   "cell_type": "markdown",
   "metadata": {},
   "source": [
    "## Validation dataset"
   ]
  },
  {
   "cell_type": "code",
   "execution_count": 31,
   "metadata": {
    "execution": {
     "iopub.execute_input": "2023-01-05T10:09:55.189659Z",
     "iopub.status.busy": "2023-01-05T10:09:55.189282Z",
     "iopub.status.idle": "2023-01-05T10:09:55.198579Z",
     "shell.execute_reply": "2023-01-05T10:09:55.197542Z",
     "shell.execute_reply.started": "2023-01-05T10:09:55.189623Z"
    }
   },
   "outputs": [
    {
     "data": {
      "text/plain": [
       "joy         704\n",
       "sadness     550\n",
       "anger       275\n",
       "fear        212\n",
       "love        178\n",
       "surprise     81\n",
       "Name: Emotion, dtype: int64"
      ]
     },
     "execution_count": 31,
     "metadata": {},
     "output_type": "execute_result"
    }
   ],
   "source": [
    "#check if the data is balanced or not\n",
    "df_val.Emotion.value_counts()"
   ]
  },
  {
   "cell_type": "code",
   "execution_count": 32,
   "metadata": {
    "execution": {
     "iopub.execute_input": "2023-01-05T10:09:55.201846Z",
     "iopub.status.busy": "2023-01-05T10:09:55.201605Z",
     "iopub.status.idle": "2023-01-05T10:09:55.618527Z",
     "shell.execute_reply": "2023-01-05T10:09:55.617572Z",
     "shell.execute_reply.started": "2023-01-05T10:09:55.201822Z"
    }
   },
   "outputs": [
    {
     "data": {
      "image/png": "[encoded data removed]",
      "text/plain": [
       "<Figure size 800x400 with 1 Axes>"
      ]
     },
     "metadata": {},
     "output_type": "display_data"
    }
   ],
   "source": [
    "plt.figure(figsize=(8,4))\n",
    "sns.countplot(x='Emotion', data=df_val);"
   ]
  },
  {
   "cell_type": "code",
   "execution_count": 33,
   "metadata": {
    "execution": {
     "iopub.execute_input": "2023-01-05T10:09:55.620413Z",
     "iopub.status.busy": "2023-01-05T10:09:55.620053Z",
     "iopub.status.idle": "2023-01-05T10:09:55.631432Z",
     "shell.execute_reply": "2023-01-05T10:09:55.630638Z",
     "shell.execute_reply.started": "2023-01-05T10:09:55.620377Z"
    }
   },
   "outputs": [
    {
     "data": {
      "text/plain": [
       "Text       0\n",
       "Emotion    0\n",
       "dtype: int64"
      ]
     },
     "execution_count": 33,
     "metadata": {},
     "output_type": "execute_result"
    }
   ],
   "source": [
    "#print the number of null values in each column\n",
    "df_val.isnull().sum()"
   ]
  },
  {
   "cell_type": "code",
   "execution_count": 34,
   "metadata": {
    "execution": {
     "iopub.execute_input": "2023-01-05T10:09:55.633676Z",
     "iopub.status.busy": "2023-01-05T10:09:55.632932Z",
     "iopub.status.idle": "2023-01-05T10:09:55.643512Z",
     "shell.execute_reply": "2023-01-05T10:09:55.642004Z",
     "shell.execute_reply.started": "2023-01-05T10:09:55.633639Z"
    }
   },
   "outputs": [
    {
     "data": {
      "text/plain": [
       "0"
      ]
     },
     "execution_count": 34,
     "metadata": {},
     "output_type": "execute_result"
    }
   ],
   "source": [
    "#print the number of duplicated values \n",
    "df_val.duplicated().sum()"
   ]
  },
  {
   "cell_type": "code",
   "execution_count": 35,
   "metadata": {
    "execution": {
     "iopub.execute_input": "2023-01-05T10:09:55.645626Z",
     "iopub.status.busy": "2023-01-05T10:09:55.645201Z",
     "iopub.status.idle": "2023-01-05T10:09:55.658246Z",
     "shell.execute_reply": "2023-01-05T10:09:55.657028Z",
     "shell.execute_reply.started": "2023-01-05T10:09:55.645592Z"
    }
   },
   "outputs": [
    {
     "data": {
      "text/html": [
       "<div>\n",
       "<style scoped>\n",
       "    .dataframe tbody tr th:only-of-type {\n",
       "        vertical-align: middle;\n",
       "    }\n",
       "\n",
       "    .dataframe tbody tr th {\n",
       "        vertical-align: top;\n",
       "    }\n",
       "\n",
       "    .dataframe thead th {\n",
       "        text-align: right;\n",
       "    }\n",
       "</style>\n",
       "<table border=\"1\" class=\"dataframe\">\n",
       "  <thead>\n",
       "    <tr style=\"text-align: right;\">\n",
       "      <th></th>\n",
       "      <th>Text</th>\n",
       "      <th>Emotion</th>\n",
       "    </tr>\n",
       "  </thead>\n",
       "  <tbody>\n",
       "    <tr>\n",
       "      <th>603</th>\n",
       "      <td>i have had several new members tell me how com...</td>\n",
       "      <td>joy</td>\n",
       "    </tr>\n",
       "    <tr>\n",
       "      <th>1993</th>\n",
       "      <td>i feel so tortured by it</td>\n",
       "      <td>anger</td>\n",
       "    </tr>\n",
       "  </tbody>\n",
       "</table>\n",
       "</div>"
      ],
      "text/plain": [
       "                                                   Text Emotion\n",
       "603   i have had several new members tell me how com...     joy\n",
       "1993                           i feel so tortured by it   anger"
      ]
     },
     "execution_count": 35,
     "metadata": {},
     "output_type": "execute_result"
    }
   ],
   "source": [
    "#print the rows which are duplicated\n",
    "df_val[df_val['Text'].duplicated() == True]"
   ]
  },
  {
   "cell_type": "code",
   "execution_count": 36,
   "metadata": {
    "execution": {
     "iopub.execute_input": "2023-01-05T10:09:55.660164Z",
     "iopub.status.busy": "2023-01-05T10:09:55.659744Z",
     "iopub.status.idle": "2023-01-05T10:09:55.671763Z",
     "shell.execute_reply": "2023-01-05T10:09:55.670646Z",
     "shell.execute_reply.started": "2023-01-05T10:09:55.660126Z"
    }
   },
   "outputs": [
    {
     "data": {
      "text/html": [
       "<div>\n",
       "<style scoped>\n",
       "    .dataframe tbody tr th:only-of-type {\n",
       "        vertical-align: middle;\n",
       "    }\n",
       "\n",
       "    .dataframe tbody tr th {\n",
       "        vertical-align: top;\n",
       "    }\n",
       "\n",
       "    .dataframe thead th {\n",
       "        text-align: right;\n",
       "    }\n",
       "</style>\n",
       "<table border=\"1\" class=\"dataframe\">\n",
       "  <thead>\n",
       "    <tr style=\"text-align: right;\">\n",
       "      <th></th>\n",
       "      <th>Text</th>\n",
       "      <th>Emotion</th>\n",
       "    </tr>\n",
       "  </thead>\n",
       "  <tbody>\n",
       "    <tr>\n",
       "      <th>300</th>\n",
       "      <td>i have had several new members tell me how com...</td>\n",
       "      <td>love</td>\n",
       "    </tr>\n",
       "    <tr>\n",
       "      <th>603</th>\n",
       "      <td>i have had several new members tell me how com...</td>\n",
       "      <td>joy</td>\n",
       "    </tr>\n",
       "  </tbody>\n",
       "</table>\n",
       "</div>"
      ],
      "text/plain": [
       "                                                  Text Emotion\n",
       "300  i have had several new members tell me how com...    love\n",
       "603  i have had several new members tell me how com...     joy"
      ]
     },
     "execution_count": 36,
     "metadata": {},
     "output_type": "execute_result"
    }
   ],
   "source": [
    "df_val[df_val['Text'] == df_val.iloc[603]['Text']]\n"
   ]
  },
  {
   "cell_type": "code",
   "execution_count": 38,
   "metadata": {
    "execution": {
     "iopub.execute_input": "2023-01-05T10:09:55.673885Z",
     "iopub.status.busy": "2023-01-05T10:09:55.673469Z",
     "iopub.status.idle": "2023-01-05T10:09:55.685653Z",
     "shell.execute_reply": "2023-01-05T10:09:55.684440Z",
     "shell.execute_reply.started": "2023-01-05T10:09:55.673852Z"
    }
   },
   "outputs": [
    {
     "data": {
      "text/html": [
       "<div>\n",
       "<style scoped>\n",
       "    .dataframe tbody tr th:only-of-type {\n",
       "        vertical-align: middle;\n",
       "    }\n",
       "\n",
       "    .dataframe tbody tr th {\n",
       "        vertical-align: top;\n",
       "    }\n",
       "\n",
       "    .dataframe thead th {\n",
       "        text-align: right;\n",
       "    }\n",
       "</style>\n",
       "<table border=\"1\" class=\"dataframe\">\n",
       "  <thead>\n",
       "    <tr style=\"text-align: right;\">\n",
       "      <th></th>\n",
       "      <th>Text</th>\n",
       "      <th>Emotion</th>\n",
       "    </tr>\n",
       "  </thead>\n",
       "  <tbody>\n",
       "    <tr>\n",
       "      <th>774</th>\n",
       "      <td>i feel so tortured by it</td>\n",
       "      <td>fear</td>\n",
       "    </tr>\n",
       "    <tr>\n",
       "      <th>1993</th>\n",
       "      <td>i feel so tortured by it</td>\n",
       "      <td>anger</td>\n",
       "    </tr>\n",
       "  </tbody>\n",
       "</table>\n",
       "</div>"
      ],
      "text/plain": [
       "                          Text Emotion\n",
       "774   i feel so tortured by it    fear\n",
       "1993  i feel so tortured by it   anger"
      ]
     },
     "execution_count": 38,
     "metadata": {},
     "output_type": "execute_result"
    }
   ],
   "source": [
    "df_val[df_val['Text'] == df_val.iloc[1993]['Text']]\n"
   ]
  },
  {
   "cell_type": "code",
   "execution_count": 39,
   "metadata": {
    "execution": {
     "iopub.execute_input": "2023-01-05T10:09:55.687616Z",
     "iopub.status.busy": "2023-01-05T10:09:55.687263Z",
     "iopub.status.idle": "2023-01-05T10:09:55.695224Z",
     "shell.execute_reply": "2023-01-05T10:09:55.694326Z",
     "shell.execute_reply.started": "2023-01-05T10:09:55.687583Z"
    }
   },
   "outputs": [],
   "source": [
    "#removing duplicated text\n",
    "index = df_val[df_val['Text'].duplicated() == True].index\n",
    "df_val.drop(index, axis = 0, inplace = True)\n",
    "df_val.reset_index(inplace=True, drop = True)"
   ]
  },
  {
   "cell_type": "code",
   "execution_count": 40,
   "metadata": {
    "execution": {
     "iopub.execute_input": "2023-01-05T10:09:55.697324Z",
     "iopub.status.busy": "2023-01-05T10:09:55.696313Z",
     "iopub.status.idle": "2023-01-05T10:09:55.720223Z",
     "shell.execute_reply": "2023-01-05T10:09:55.719252Z",
     "shell.execute_reply.started": "2023-01-05T10:09:55.697279Z"
    }
   },
   "outputs": [
    {
     "data": {
      "text/plain": [
       "7     190\n",
       "5     175\n",
       "8     173\n",
       "6     160\n",
       "3     160\n",
       "10    150\n",
       "9     146\n",
       "4     145\n",
       "2     133\n",
       "11    103\n",
       "Name: stop_words, dtype: int64"
      ]
     },
     "execution_count": 40,
     "metadata": {},
     "output_type": "execute_result"
    }
   ],
   "source": [
    "#Count the number of stopwords in the data\n",
    "temp =df_val.copy()\n",
    "temp['stop_words'] = temp['Text'].apply(lambda x: len(set(x.split()) & set(stop_words)))\n",
    "temp.stop_words.value_counts()[:10]\n"
   ]
  },
  {
   "cell_type": "code",
   "execution_count": 41,
   "metadata": {
    "execution": {
     "iopub.execute_input": "2023-01-05T10:09:55.722037Z",
     "iopub.status.busy": "2023-01-05T10:09:55.721268Z",
     "iopub.status.idle": "2023-01-05T10:09:55.971404Z",
     "shell.execute_reply": "2023-01-05T10:09:55.970403Z",
     "shell.execute_reply.started": "2023-01-05T10:09:55.722010Z"
    }
   },
   "outputs": [
    {
     "data": {
      "image/png": "[encoded data removed]",
      "text/plain": [
       "<Figure size 640x480 with 1 Axes>"
      ]
     },
     "metadata": {},
     "output_type": "display_data"
    }
   ],
   "source": [
    "sns.set(font_scale=1.3)\n",
    "temp['stop_words'].plot(kind= 'hist');"
   ]
  },
  {
   "cell_type": "markdown",
   "metadata": {},
   "source": [
    "## Compare rows of the datasets"
   ]
  },
  {
   "cell_type": "markdown",
   "metadata": {},
   "source": [
    "check that there is no data leakage"
   ]
  },
  {
   "cell_type": "code",
   "execution_count": 42,
   "metadata": {
    "execution": {
     "iopub.execute_input": "2023-01-05T10:09:55.975135Z",
     "iopub.status.busy": "2023-01-05T10:09:55.974863Z",
     "iopub.status.idle": "2023-01-05T10:09:55.981163Z",
     "shell.execute_reply": "2023-01-05T10:09:55.979354Z",
     "shell.execute_reply.started": "2023-01-05T10:09:55.975109Z"
    }
   },
   "outputs": [],
   "source": [
    "def dataframe_difference(df1, df2, which=None):\n",
    "    \"\"\"Find rows which are different between two DataFrames.\"\"\"\n",
    "    \n",
    "    # Combine the two DataFrames using a merge operation, with the\n",
    "    # indicator parameter set to True. This adds a column called _merge\n",
    "    # to the resulting DataFrame, which indicates the source of each row.\n",
    "    comparison_df = df1.merge(\n",
    "        df2,\n",
    "        indicator=True,\n",
    "        how='outer'\n",
    "    )\n",
    "    \n",
    "    # Filter the merged DataFrame based on the value of _merge. If which\n",
    "    # is not specified, return all rows where _merge is not 'both'.\n",
    "    # Otherwise, return all rows where _merge has the specified value\n",
    "    if which is None:\n",
    "        diff_df = comparison_df[comparison_df['_merge'] != 'both']\n",
    "    else:\n",
    "        diff_df = comparison_df[comparison_df['_merge'] == which]\n",
    "        \n",
    "    # Return the filtered DataFrame\n",
    "    return diff_df"
   ]
  },
  {
   "cell_type": "code",
   "execution_count": 43,
   "metadata": {
    "execution": {
     "iopub.execute_input": "2023-01-05T10:09:55.983424Z",
     "iopub.status.busy": "2023-01-05T10:09:55.982729Z",
     "iopub.status.idle": "2023-01-05T10:09:56.018360Z",
     "shell.execute_reply": "2023-01-05T10:09:56.017495Z",
     "shell.execute_reply.started": "2023-01-05T10:09:55.983374Z"
    }
   },
   "outputs": [
    {
     "data": {
      "text/html": [
       "<div>\n",
       "<style scoped>\n",
       "    .dataframe tbody tr th:only-of-type {\n",
       "        vertical-align: middle;\n",
       "    }\n",
       "\n",
       "    .dataframe tbody tr th {\n",
       "        vertical-align: top;\n",
       "    }\n",
       "\n",
       "    .dataframe thead th {\n",
       "        text-align: right;\n",
       "    }\n",
       "</style>\n",
       "<table border=\"1\" class=\"dataframe\">\n",
       "  <thead>\n",
       "    <tr style=\"text-align: right;\">\n",
       "      <th></th>\n",
       "      <th>Text</th>\n",
       "      <th>Emotion</th>\n",
       "      <th>_merge</th>\n",
       "    </tr>\n",
       "  </thead>\n",
       "  <tbody>\n",
       "  </tbody>\n",
       "</table>\n",
       "</div>"
      ],
      "text/plain": [
       "Empty DataFrame\n",
       "Columns: [Text, Emotion, _merge]\n",
       "Index: []"
      ]
     },
     "execution_count": 43,
     "metadata": {},
     "output_type": "execute_result"
    }
   ],
   "source": [
    "dataframe_difference(df_train, df_test, which='both')"
   ]
  },
  {
   "cell_type": "code",
   "execution_count": 44,
   "metadata": {
    "execution": {
     "iopub.execute_input": "2023-01-05T10:09:56.020174Z",
     "iopub.status.busy": "2023-01-05T10:09:56.019838Z",
     "iopub.status.idle": "2023-01-05T10:09:56.049856Z",
     "shell.execute_reply": "2023-01-05T10:09:56.049039Z",
     "shell.execute_reply.started": "2023-01-05T10:09:56.020137Z"
    }
   },
   "outputs": [
    {
     "data": {
      "text/html": [
       "<div>\n",
       "<style scoped>\n",
       "    .dataframe tbody tr th:only-of-type {\n",
       "        vertical-align: middle;\n",
       "    }\n",
       "\n",
       "    .dataframe tbody tr th {\n",
       "        vertical-align: top;\n",
       "    }\n",
       "\n",
       "    .dataframe thead th {\n",
       "        text-align: right;\n",
       "    }\n",
       "</style>\n",
       "<table border=\"1\" class=\"dataframe\">\n",
       "  <thead>\n",
       "    <tr style=\"text-align: right;\">\n",
       "      <th></th>\n",
       "      <th>Text</th>\n",
       "      <th>Emotion</th>\n",
       "      <th>_merge</th>\n",
       "    </tr>\n",
       "  </thead>\n",
       "  <tbody>\n",
       "  </tbody>\n",
       "</table>\n",
       "</div>"
      ],
      "text/plain": [
       "Empty DataFrame\n",
       "Columns: [Text, Emotion, _merge]\n",
       "Index: []"
      ]
     },
     "execution_count": 44,
     "metadata": {},
     "output_type": "execute_result"
    }
   ],
   "source": [
    "dataframe_difference(df_train, df_val, which='both')"
   ]
  },
  {
   "cell_type": "code",
   "execution_count": 45,
   "metadata": {
    "execution": {
     "iopub.execute_input": "2023-01-05T10:09:56.051154Z",
     "iopub.status.busy": "2023-01-05T10:09:56.050907Z",
     "iopub.status.idle": "2023-01-05T10:09:56.072201Z",
     "shell.execute_reply": "2023-01-05T10:09:56.071213Z",
     "shell.execute_reply.started": "2023-01-05T10:09:56.051131Z"
    }
   },
   "outputs": [
    {
     "data": {
      "text/html": [
       "<div>\n",
       "<style scoped>\n",
       "    .dataframe tbody tr th:only-of-type {\n",
       "        vertical-align: middle;\n",
       "    }\n",
       "\n",
       "    .dataframe tbody tr th {\n",
       "        vertical-align: top;\n",
       "    }\n",
       "\n",
       "    .dataframe thead th {\n",
       "        text-align: right;\n",
       "    }\n",
       "</style>\n",
       "<table border=\"1\" class=\"dataframe\">\n",
       "  <thead>\n",
       "    <tr style=\"text-align: right;\">\n",
       "      <th></th>\n",
       "      <th>Text</th>\n",
       "      <th>Emotion</th>\n",
       "      <th>_merge</th>\n",
       "    </tr>\n",
       "  </thead>\n",
       "  <tbody>\n",
       "  </tbody>\n",
       "</table>\n",
       "</div>"
      ],
      "text/plain": [
       "Empty DataFrame\n",
       "Columns: [Text, Emotion, _merge]\n",
       "Index: []"
      ]
     },
     "execution_count": 45,
     "metadata": {},
     "output_type": "execute_result"
    }
   ],
   "source": [
    "dataframe_difference(df_val, df_test, which='both')"
   ]
  },
  {
   "cell_type": "markdown",
   "metadata": {},
   "source": [
    "## Cleaning"
   ]
  },
  {
   "cell_type": "code",
   "execution_count": 46,
   "metadata": {
    "execution": {
     "iopub.execute_input": "2023-01-05T10:09:56.074361Z",
     "iopub.status.busy": "2023-01-05T10:09:56.074027Z",
     "iopub.status.idle": "2023-01-05T10:09:56.087635Z",
     "shell.execute_reply": "2023-01-05T10:09:56.086445Z",
     "shell.execute_reply.started": "2023-01-05T10:09:56.074328Z"
    }
   },
   "outputs": [],
   "source": [
    "def lemmatization(text):\n",
    "    lemmatizer= WordNetLemmatizer()\n",
    "\n",
    "    text = text.split()\n",
    "\n",
    "    text=[lemmatizer.lemmatize(y) for y in text]\n",
    "    \n",
    "    return \" \" .join(text)\n",
    "\n",
    "def remove_stop_words(text):\n",
    "\n",
    "    Text=[i for i in str(text).split() if i not in stop_words]\n",
    "    return \" \".join(Text)\n",
    "\n",
    "def Removing_numbers(text):\n",
    "    text=''.join([i for i in text if not i.isdigit()])\n",
    "    return text\n",
    "\n",
    "def lower_case(text):\n",
    "    \n",
    "    text = text.split()\n",
    "\n",
    "    text=[y.lower() for y in text]\n",
    "    \n",
    "    return \" \" .join(text)\n",
    "\n",
    "def Removing_punctuations(text):\n",
    "    ## Remove punctuations\n",
    "    text = re.sub('[%s]' % re.escape(\"\"\"!\"#$%&'()*+,،-./:;<=>؟?@[\\]^_`{|}~\"\"\"), ' ', text)\n",
    "    text = text.replace('؛',\"\", )\n",
    "    \n",
    "    ## remove extra whitespace\n",
    "    text = re.sub('\\s+', ' ', text)\n",
    "    text =  \" \".join(text.split())\n",
    "    return text.strip()\n",
    "\n",
    "def Removing_urls(text):\n",
    "    url_pattern = re.compile(r'https?://\\S+|www\\.\\S+')\n",
    "    return url_pattern.sub(r'', text)\n",
    "\n",
    "def remove_small_sentences(df):\n",
    "    for i in range(len(df)):\n",
    "        if len(df.text.iloc[i].split()) < 3:\n",
    "            df.text.iloc[i] = np.nan\n",
    "            \n",
    "def normalize_text(df):\n",
    "    df.Text=df.Text.apply(lambda text : lower_case(text))\n",
    "    df.Text=df.Text.apply(lambda text : remove_stop_words(text))\n",
    "    df.Text=df.Text.apply(lambda text : Removing_numbers(text))\n",
    "    df.Text=df.Text.apply(lambda text : Removing_punctuations(text))\n",
    "    df.Text=df.Text.apply(lambda text : Removing_urls(text))\n",
    "    df.Text=df.Text.apply(lambda text : lemmatization(text))\n",
    "    return df\n",
    "\n",
    "def normalized_sentence(sentence):\n",
    "    sentence= lower_case(sentence)\n",
    "    sentence= remove_stop_words(sentence)\n",
    "    sentence= Removing_numbers(sentence)\n",
    "    sentence= Removing_punctuations(sentence)\n",
    "    sentence= Removing_urls(sentence)\n",
    "    sentence= lemmatization(sentence)\n",
    "    return sentence\n",
    "\n",
    "    "
   ]
  },
  {
   "cell_type": "code",
   "execution_count": 47,
   "metadata": {
    "execution": {
     "iopub.execute_input": "2023-01-05T10:11:02.376585Z",
     "iopub.status.busy": "2023-01-05T10:11:02.376175Z",
     "iopub.status.idle": "2023-01-05T10:11:04.034699Z",
     "shell.execute_reply": "2023-01-05T10:11:04.033722Z",
     "shell.execute_reply.started": "2023-01-05T10:11:02.376542Z"
    }
   },
   "outputs": [
    {
     "data": {
      "text/plain": [
       "'name mohamed tweet play egypt'"
      ]
     },
     "execution_count": 47,
     "metadata": {},
     "output_type": "execute_result"
    }
   ],
   "source": [
    "normalized_sentence(\"My Name is Mohamed. @Tweets,  plays 2022  Egypt_\")\n"
   ]
  },
  {
   "cell_type": "code",
   "execution_count": 48,
   "metadata": {
    "execution": {
     "iopub.execute_input": "2023-01-05T10:11:07.326500Z",
     "iopub.status.busy": "2023-01-05T10:11:07.323879Z",
     "iopub.status.idle": "2023-01-05T10:11:08.664858Z",
     "shell.execute_reply": "2023-01-05T10:11:08.663886Z",
     "shell.execute_reply.started": "2023-01-05T10:11:07.326446Z"
    }
   },
   "outputs": [],
   "source": [
    "df_train= normalize_text(df_train)\n",
    "df_test= normalize_text(df_test)\n",
    "df_val= normalize_text(df_val)"
   ]
  },
  {
   "cell_type": "markdown",
   "metadata": {},
   "source": [
    "## Modeling"
   ]
  },
  {
   "cell_type": "markdown",
   "metadata": {},
   "source": [
    "### TF-IDF\n",
    "The word counts suffer some issues: most frequent words are usually not important (like stop words), while they take high focus/count.\n",
    "\n",
    "TFIDF (Term Frequency - Inverse Document) is a way to adjust those counts:\n",
    "\n",
    "TF: #mentions within a document\n",
    "\n",
    "IDF: #mentions across all docs \n",
    "\n",
    "So it gives higher importance to rare words across all docs (IDF++, TFIDF--), while it emphasyses on words appearing mostly in THIS doc (TF++, TFIDF--).\n",
    "\n",
    "If a word appearing only in the current doc/sentence, it has TFIDF=1. If a word appears in all docs/sents but not the current one, it has TFIDF=0. If a word (stop word for example) appearing a lot in the current doc/sent and also in ALL others, it will have high TF (count) and much higher IDF (discount), so low TFIDF overall."
   ]
  },
  {
   "cell_type": "markdown",
   "metadata": {},
   "source": [
    "We will start by baseline models"
   ]
  },
  {
   "cell_type": "markdown",
   "metadata": {},
   "source": [
    "**Creating a pipline using tf-idf for words embedding and different models.**\n"
   ]
  },
  {
   "cell_type": "code",
   "execution_count": 49,
   "metadata": {
    "execution": {
     "iopub.execute_input": "2023-01-05T10:11:08.667751Z",
     "iopub.status.busy": "2023-01-05T10:11:08.667044Z",
     "iopub.status.idle": "2023-01-05T10:11:08.674691Z",
     "shell.execute_reply": "2023-01-05T10:11:08.673440Z",
     "shell.execute_reply.started": "2023-01-05T10:11:08.667713Z"
    }
   },
   "outputs": [],
   "source": [
    "#Preprocess text\n",
    "X_train = df_train['Text'].values\n",
    "y_train = df_train['Emotion'].values\n",
    "\n",
    "X_test = df_test['Text'].values\n",
    "y_test = df_test['Emotion'].values\n",
    "\n",
    "X_val = df_val['Text'].values\n",
    "y_val = df_val['Emotion'].values"
   ]
  },
  {
   "cell_type": "code",
   "execution_count": 50,
   "metadata": {
    "execution": {
     "iopub.execute_input": "2023-01-05T10:11:08.676594Z",
     "iopub.status.busy": "2023-01-05T10:11:08.676039Z",
     "iopub.status.idle": "2023-01-05T10:11:08.686580Z",
     "shell.execute_reply": "2023-01-05T10:11:08.685724Z",
     "shell.execute_reply.started": "2023-01-05T10:11:08.676559Z"
    }
   },
   "outputs": [],
   "source": [
    "def train_model(model, data, targets):\n",
    "    \"\"\"\n",
    "    Train a model on the given data and targets.\n",
    "    \n",
    "    Parameters:\n",
    "    model (sklearn model): The model to be trained.\n",
    "    data (list of str): The input data.\n",
    "    targets (list of str): The targets.\n",
    "    \n",
    "    Returns:\n",
    "    Pipeline: The trained model as a Pipeline object.\n",
    "    \"\"\"\n",
    "    # Create a Pipeline object with a TfidfVectorizer and the given model\n",
    "    text_clf = Pipeline([('vect',TfidfVectorizer()),\n",
    "                         ('clf', model)])\n",
    "    # Fit the model on the data and targets\n",
    "    text_clf.fit(data, targets)\n",
    "    return text_clf"
   ]
  },
  {
   "cell_type": "code",
   "execution_count": 51,
   "metadata": {
    "execution": {
     "iopub.execute_input": "2023-01-05T10:11:08.690396Z",
     "iopub.status.busy": "2023-01-05T10:11:08.690059Z",
     "iopub.status.idle": "2023-01-05T10:11:08.698144Z",
     "shell.execute_reply": "2023-01-05T10:11:08.696823Z",
     "shell.execute_reply.started": "2023-01-05T10:11:08.690363Z"
    }
   },
   "outputs": [],
   "source": [
    "def get_F1(trained_model,X,y):\n",
    "    \"\"\"\n",
    "    Get the F1 score for the given model on the given data and targets.\n",
    "    \n",
    "    Parameters:\n",
    "    trained_model (sklearn model): The trained model.\n",
    "    X (list of str): The input data.\n",
    "    y (list of str): The targets.\n",
    "    \n",
    "    Returns:\n",
    "    array: The F1 score for each class.\n",
    "    \"\"\"\n",
    "    # Make predictions on the input data using the trained model\n",
    "    predicted=trained_model.predict(X)\n",
    "    # Calculate the F1 score for the predictions\n",
    "    f1=f1_score(y,predicted, average=None)\n",
    "    # Return the F1 score\n",
    "    return f1"
   ]
  },
  {
   "cell_type": "markdown",
   "metadata": {},
   "source": [
    "**Training the Logistic Regression model on the Training set**\n"
   ]
  },
  {
   "cell_type": "code",
   "execution_count": 52,
   "metadata": {
    "execution": {
     "iopub.execute_input": "2023-01-05T10:11:08.700910Z",
     "iopub.status.busy": "2023-01-05T10:11:08.700326Z",
     "iopub.status.idle": "2023-01-05T10:11:09.480896Z",
     "shell.execute_reply": "2023-01-05T10:11:09.479578Z",
     "shell.execute_reply.started": "2023-01-05T10:11:08.700849Z"
    }
   },
   "outputs": [],
   "source": [
    "#Train the model with the training data\n",
    "log_reg = train_model(LogisticRegression(solver='liblinear',random_state = 0), X_train, y_train)"
   ]
  },
  {
   "cell_type": "code",
   "execution_count": 53,
   "metadata": {
    "execution": {
     "iopub.execute_input": "2023-01-05T10:11:09.483608Z",
     "iopub.status.busy": "2023-01-05T10:11:09.482835Z",
     "iopub.status.idle": "2023-01-05T10:11:09.493670Z",
     "shell.execute_reply": "2023-01-05T10:11:09.492466Z",
     "shell.execute_reply.started": "2023-01-05T10:11:09.483558Z"
    }
   },
   "outputs": [
    {
     "data": {
      "text/plain": [
       "array(['joy'], dtype=object)"
      ]
     },
     "execution_count": 53,
     "metadata": {},
     "output_type": "execute_result"
    }
   ],
   "source": [
    "#Make a single prediction\n",
    "y_pred=log_reg.predict(['Happy'])\n",
    "y_pred"
   ]
  },
  {
   "cell_type": "code",
   "execution_count": 54,
   "metadata": {
    "execution": {
     "iopub.execute_input": "2023-01-05T10:11:09.496203Z",
     "iopub.status.busy": "2023-01-05T10:11:09.495464Z",
     "iopub.status.idle": "2023-01-05T10:11:09.628897Z",
     "shell.execute_reply": "2023-01-05T10:11:09.627742Z",
     "shell.execute_reply.started": "2023-01-05T10:11:09.496164Z"
    }
   },
   "outputs": [
    {
     "name": "stdout",
     "output_type": "stream",
     "text": [
      "Accuracy:  0.8685 \n",
      "\n"
     ]
    },
    {
     "data": {
      "text/html": [
       "<div>\n",
       "<style scoped>\n",
       "    .dataframe tbody tr th:only-of-type {\n",
       "        vertical-align: middle;\n",
       "    }\n",
       "\n",
       "    .dataframe tbody tr th {\n",
       "        vertical-align: top;\n",
       "    }\n",
       "\n",
       "    .dataframe thead th {\n",
       "        text-align: right;\n",
       "    }\n",
       "</style>\n",
       "<table border=\"1\" class=\"dataframe\">\n",
       "  <thead>\n",
       "    <tr style=\"text-align: right;\">\n",
       "      <th></th>\n",
       "      <th>F1 score</th>\n",
       "    </tr>\n",
       "  </thead>\n",
       "  <tbody>\n",
       "    <tr>\n",
       "      <th>sadness</th>\n",
       "      <td>0.858223</td>\n",
       "    </tr>\n",
       "    <tr>\n",
       "      <th>anger</th>\n",
       "      <td>0.823810</td>\n",
       "    </tr>\n",
       "    <tr>\n",
       "      <th>love</th>\n",
       "      <td>0.893048</td>\n",
       "    </tr>\n",
       "    <tr>\n",
       "      <th>surprise</th>\n",
       "      <td>0.703704</td>\n",
       "    </tr>\n",
       "    <tr>\n",
       "      <th>fear</th>\n",
       "      <td>0.915683</td>\n",
       "    </tr>\n",
       "    <tr>\n",
       "      <th>joy</th>\n",
       "      <td>0.626263</td>\n",
       "    </tr>\n",
       "  </tbody>\n",
       "</table>\n",
       "</div>"
      ],
      "text/plain": [
       "          F1 score\n",
       "sadness   0.858223\n",
       "anger     0.823810\n",
       "love      0.893048\n",
       "surprise  0.703704\n",
       "fear      0.915683\n",
       "joy       0.626263"
      ]
     },
     "execution_count": 54,
     "metadata": {},
     "output_type": "execute_result"
    }
   ],
   "source": [
    "#test the model with the test data\n",
    "y_pred=log_reg.predict(X_test)\n",
    "\n",
    "#calculate the accuracy\n",
    "log_reg_accuracy = accuracy_score(y_test, y_pred)\n",
    "print('Accuracy: ', log_reg_accuracy,'\\n')\n",
    "\n",
    "#calculate the F1 score\n",
    "f1_Score = get_F1(log_reg,X_test,y_test)\n",
    "pd.DataFrame(f1_Score, index=df_train.Emotion.unique(), columns=['F1 score'])"
   ]
  },
  {
   "cell_type": "code",
   "execution_count": 55,
   "metadata": {
    "execution": {
     "iopub.execute_input": "2023-01-05T10:11:09.631020Z",
     "iopub.status.busy": "2023-01-05T10:11:09.630758Z",
     "iopub.status.idle": "2023-01-05T10:11:09.680051Z",
     "shell.execute_reply": "2023-01-05T10:11:09.679035Z",
     "shell.execute_reply.started": "2023-01-05T10:11:09.630995Z"
    }
   },
   "outputs": [
    {
     "name": "stdout",
     "output_type": "stream",
     "text": [
      "              precision    recall  f1-score   support\n",
      "\n",
      "       anger       0.89      0.83      0.86       275\n",
      "        fear       0.88      0.77      0.82       224\n",
      "         joy       0.83      0.96      0.89       695\n",
      "        love       0.86      0.60      0.70       159\n",
      "     sadness       0.90      0.93      0.92       581\n",
      "    surprise       0.94      0.47      0.63        66\n",
      "\n",
      "    accuracy                           0.87      2000\n",
      "   macro avg       0.88      0.76      0.80      2000\n",
      "weighted avg       0.87      0.87      0.86      2000\n",
      "\n"
     ]
    }
   ],
   "source": [
    "##Classification Report\n",
    "print(classification_report(y_test, y_pred))"
   ]
  },
  {
   "cell_type": "markdown",
   "metadata": {},
   "source": [
    "**Training the Decision Tree model on the Training set**"
   ]
  },
  {
   "cell_type": "code",
   "execution_count": 56,
   "metadata": {
    "execution": {
     "iopub.execute_input": "2023-01-05T10:11:09.683165Z",
     "iopub.status.busy": "2023-01-05T10:11:09.682902Z",
     "iopub.status.idle": "2023-01-05T10:11:13.620461Z",
     "shell.execute_reply": "2023-01-05T10:11:13.618985Z",
     "shell.execute_reply.started": "2023-01-05T10:11:09.683140Z"
    }
   },
   "outputs": [
    {
     "name": "stdout",
     "output_type": "stream",
     "text": [
      "Accuracy:  0.859 \n",
      "\n"
     ]
    },
    {
     "data": {
      "text/html": [
       "<div>\n",
       "<style scoped>\n",
       "    .dataframe tbody tr th:only-of-type {\n",
       "        vertical-align: middle;\n",
       "    }\n",
       "\n",
       "    .dataframe tbody tr th {\n",
       "        vertical-align: top;\n",
       "    }\n",
       "\n",
       "    .dataframe thead th {\n",
       "        text-align: right;\n",
       "    }\n",
       "</style>\n",
       "<table border=\"1\" class=\"dataframe\">\n",
       "  <thead>\n",
       "    <tr style=\"text-align: right;\">\n",
       "      <th></th>\n",
       "      <th>F1 score</th>\n",
       "    </tr>\n",
       "  </thead>\n",
       "  <tbody>\n",
       "    <tr>\n",
       "      <th>sadness</th>\n",
       "      <td>0.873440</td>\n",
       "    </tr>\n",
       "    <tr>\n",
       "      <th>anger</th>\n",
       "      <td>0.798206</td>\n",
       "    </tr>\n",
       "    <tr>\n",
       "      <th>love</th>\n",
       "      <td>0.890671</td>\n",
       "    </tr>\n",
       "    <tr>\n",
       "      <th>surprise</th>\n",
       "      <td>0.737805</td>\n",
       "    </tr>\n",
       "    <tr>\n",
       "      <th>fear</th>\n",
       "      <td>0.900605</td>\n",
       "    </tr>\n",
       "    <tr>\n",
       "      <th>joy</th>\n",
       "      <td>0.617647</td>\n",
       "    </tr>\n",
       "  </tbody>\n",
       "</table>\n",
       "</div>"
      ],
      "text/plain": [
       "          F1 score\n",
       "sadness   0.873440\n",
       "anger     0.798206\n",
       "love      0.890671\n",
       "surprise  0.737805\n",
       "fear      0.900605\n",
       "joy       0.617647"
      ]
     },
     "execution_count": 56,
     "metadata": {},
     "output_type": "execute_result"
    }
   ],
   "source": [
    "#Train the model with the training data\n",
    "DT = train_model(DecisionTreeClassifier(random_state = 0), X_train, y_train)\n",
    "\n",
    "#test the model with the test data\n",
    "y_pred=DT.predict(X_test)\n",
    "\n",
    "#calculate the accuracy\n",
    "DT_accuracy = accuracy_score(y_test, y_pred)\n",
    "print('Accuracy: ', DT_accuracy,'\\n')\n",
    "\n",
    "#calculate the F1 score\n",
    "f1_Score = get_F1(DT,X_test,y_test)\n",
    "pd.DataFrame(f1_Score, index=df_train.Emotion.unique(), columns=['F1 score']) "
   ]
  },
  {
   "cell_type": "code",
   "execution_count": 57,
   "metadata": {
    "execution": {
     "iopub.execute_input": "2023-01-05T10:11:13.625609Z",
     "iopub.status.busy": "2023-01-05T10:11:13.625218Z",
     "iopub.status.idle": "2023-01-05T10:11:13.674383Z",
     "shell.execute_reply": "2023-01-05T10:11:13.673504Z",
     "shell.execute_reply.started": "2023-01-05T10:11:13.625572Z"
    }
   },
   "outputs": [
    {
     "name": "stdout",
     "output_type": "stream",
     "text": [
      "              precision    recall  f1-score   support\n",
      "\n",
      "       anger       0.86      0.89      0.87       275\n",
      "        fear       0.80      0.79      0.80       224\n",
      "         joy       0.90      0.88      0.89       695\n",
      "        love       0.72      0.76      0.74       159\n",
      "     sadness       0.90      0.90      0.90       581\n",
      "    surprise       0.60      0.64      0.62        66\n",
      "\n",
      "    accuracy                           0.86      2000\n",
      "   macro avg       0.80      0.81      0.80      2000\n",
      "weighted avg       0.86      0.86      0.86      2000\n",
      "\n"
     ]
    }
   ],
   "source": [
    "##Classification Report\n",
    "print(classification_report(y_test, y_pred))"
   ]
  },
  {
   "cell_type": "markdown",
   "metadata": {},
   "source": [
    "**Training the Support Vector Machine model on the Training set**\n"
   ]
  },
  {
   "cell_type": "code",
   "execution_count": 58,
   "metadata": {
    "execution": {
     "iopub.execute_input": "2023-01-05T10:11:13.676153Z",
     "iopub.status.busy": "2023-01-05T10:11:13.675804Z",
     "iopub.status.idle": "2023-01-05T10:12:21.751364Z",
     "shell.execute_reply": "2023-01-05T10:12:21.750335Z",
     "shell.execute_reply.started": "2023-01-05T10:11:13.676119Z"
    }
   },
   "outputs": [
    {
     "name": "stdout",
     "output_type": "stream",
     "text": [
      "Accuracy:  0.8675 \n",
      "\n"
     ]
    },
    {
     "data": {
      "text/html": [
       "<div>\n",
       "<style scoped>\n",
       "    .dataframe tbody tr th:only-of-type {\n",
       "        vertical-align: middle;\n",
       "    }\n",
       "\n",
       "    .dataframe tbody tr th {\n",
       "        vertical-align: top;\n",
       "    }\n",
       "\n",
       "    .dataframe thead th {\n",
       "        text-align: right;\n",
       "    }\n",
       "</style>\n",
       "<table border=\"1\" class=\"dataframe\">\n",
       "  <thead>\n",
       "    <tr style=\"text-align: right;\">\n",
       "      <th></th>\n",
       "      <th>F1 score</th>\n",
       "    </tr>\n",
       "  </thead>\n",
       "  <tbody>\n",
       "    <tr>\n",
       "      <th>sadness</th>\n",
       "      <td>0.857685</td>\n",
       "    </tr>\n",
       "    <tr>\n",
       "      <th>anger</th>\n",
       "      <td>0.827907</td>\n",
       "    </tr>\n",
       "    <tr>\n",
       "      <th>love</th>\n",
       "      <td>0.893645</td>\n",
       "    </tr>\n",
       "    <tr>\n",
       "      <th>surprise</th>\n",
       "      <td>0.681648</td>\n",
       "    </tr>\n",
       "    <tr>\n",
       "      <th>fear</th>\n",
       "      <td>0.914821</td>\n",
       "    </tr>\n",
       "    <tr>\n",
       "      <th>joy</th>\n",
       "      <td>0.654206</td>\n",
       "    </tr>\n",
       "  </tbody>\n",
       "</table>\n",
       "</div>"
      ],
      "text/plain": [
       "          F1 score\n",
       "sadness   0.857685\n",
       "anger     0.827907\n",
       "love      0.893645\n",
       "surprise  0.681648\n",
       "fear      0.914821\n",
       "joy       0.654206"
      ]
     },
     "execution_count": 58,
     "metadata": {},
     "output_type": "execute_result"
    }
   ],
   "source": [
    "#Train the model with the training data\n",
    "SVM = train_model(SVC(random_state = 0), X_train, y_train)\n",
    "\n",
    "#test the model with the test data\n",
    "y_pred=SVM.predict(X_test)\n",
    "\n",
    "#calculate the accuracy\n",
    "SVM_accuracy = accuracy_score(y_test, y_pred)\n",
    "print('Accuracy: ', SVM_accuracy,'\\n')\n",
    "\n",
    "#calculate the F1 score\n",
    "f1_Score = get_F1(SVM,X_test,y_test)\n",
    "pd.DataFrame(f1_Score, index=df_train.Emotion.unique(), columns=['F1 score']) \n"
   ]
  },
  {
   "cell_type": "code",
   "execution_count": 59,
   "metadata": {
    "execution": {
     "iopub.execute_input": "2023-01-05T10:12:21.753491Z",
     "iopub.status.busy": "2023-01-05T10:12:21.752811Z",
     "iopub.status.idle": "2023-01-05T10:12:21.803906Z",
     "shell.execute_reply": "2023-01-05T10:12:21.802740Z",
     "shell.execute_reply.started": "2023-01-05T10:12:21.753433Z"
    }
   },
   "outputs": [
    {
     "name": "stdout",
     "output_type": "stream",
     "text": [
      "              precision    recall  f1-score   support\n",
      "\n",
      "       anger       0.90      0.82      0.86       275\n",
      "        fear       0.86      0.79      0.83       224\n",
      "         joy       0.83      0.96      0.89       695\n",
      "        love       0.84      0.57      0.68       159\n",
      "     sadness       0.91      0.92      0.91       581\n",
      "    surprise       0.85      0.53      0.65        66\n",
      "\n",
      "    accuracy                           0.87      2000\n",
      "   macro avg       0.87      0.77      0.80      2000\n",
      "weighted avg       0.87      0.87      0.86      2000\n",
      "\n"
     ]
    }
   ],
   "source": [
    "##Classification Report\n",
    "print(classification_report(y_test, y_pred))"
   ]
  },
  {
   "cell_type": "markdown",
   "metadata": {},
   "source": [
    "**Training the Random Forest model on the Training set**"
   ]
  },
  {
   "cell_type": "code",
   "execution_count": 60,
   "metadata": {
    "execution": {
     "iopub.execute_input": "2023-01-05T10:12:21.807381Z",
     "iopub.status.busy": "2023-01-05T10:12:21.807118Z",
     "iopub.status.idle": "2023-01-05T10:12:37.653137Z",
     "shell.execute_reply": "2023-01-05T10:12:37.652005Z",
     "shell.execute_reply.started": "2023-01-05T10:12:21.807356Z"
    }
   },
   "outputs": [
    {
     "name": "stdout",
     "output_type": "stream",
     "text": [
      "Accuracy:  0.8895 \n",
      "\n"
     ]
    },
    {
     "data": {
      "text/html": [
       "<div>\n",
       "<style scoped>\n",
       "    .dataframe tbody tr th:only-of-type {\n",
       "        vertical-align: middle;\n",
       "    }\n",
       "\n",
       "    .dataframe tbody tr th {\n",
       "        vertical-align: top;\n",
       "    }\n",
       "\n",
       "    .dataframe thead th {\n",
       "        text-align: right;\n",
       "    }\n",
       "</style>\n",
       "<table border=\"1\" class=\"dataframe\">\n",
       "  <thead>\n",
       "    <tr style=\"text-align: right;\">\n",
       "      <th></th>\n",
       "      <th>F1 score</th>\n",
       "    </tr>\n",
       "  </thead>\n",
       "  <tbody>\n",
       "    <tr>\n",
       "      <th>sadness</th>\n",
       "      <td>0.903811</td>\n",
       "    </tr>\n",
       "    <tr>\n",
       "      <th>anger</th>\n",
       "      <td>0.868421</td>\n",
       "    </tr>\n",
       "    <tr>\n",
       "      <th>love</th>\n",
       "      <td>0.908199</td>\n",
       "    </tr>\n",
       "    <tr>\n",
       "      <th>surprise</th>\n",
       "      <td>0.738983</td>\n",
       "    </tr>\n",
       "    <tr>\n",
       "      <th>fear</th>\n",
       "      <td>0.933798</td>\n",
       "    </tr>\n",
       "    <tr>\n",
       "      <th>joy</th>\n",
       "      <td>0.634146</td>\n",
       "    </tr>\n",
       "  </tbody>\n",
       "</table>\n",
       "</div>"
      ],
      "text/plain": [
       "          F1 score\n",
       "sadness   0.903811\n",
       "anger     0.868421\n",
       "love      0.908199\n",
       "surprise  0.738983\n",
       "fear      0.933798\n",
       "joy       0.634146"
      ]
     },
     "execution_count": 60,
     "metadata": {},
     "output_type": "execute_result"
    }
   ],
   "source": [
    "#Train the model with the training data\n",
    "RF = train_model(RandomForestClassifier(random_state = 0), X_train, y_train)\n",
    "\n",
    "#test the model with the test data\n",
    "y_pred=RF.predict(X_test)\n",
    "\n",
    "#calculate the accuracy\n",
    "RF_accuracy = accuracy_score(y_test, y_pred)\n",
    "print('Accuracy: ', RF_accuracy,'\\n')\n",
    "\n",
    "#calculate the F1 score\n",
    "f1_Score = get_F1(RF, X_test, y_test)\n",
    "pd.DataFrame(f1_Score, index=df_train.Emotion.unique(), columns=['F1 score']) "
   ]
  },
  {
   "cell_type": "code",
   "execution_count": 61,
   "metadata": {
    "execution": {
     "iopub.execute_input": "2023-01-05T10:12:37.655007Z",
     "iopub.status.busy": "2023-01-05T10:12:37.654558Z",
     "iopub.status.idle": "2023-01-05T10:12:37.702134Z",
     "shell.execute_reply": "2023-01-05T10:12:37.701186Z",
     "shell.execute_reply.started": "2023-01-05T10:12:37.654971Z"
    }
   },
   "outputs": [
    {
     "name": "stdout",
     "output_type": "stream",
     "text": [
      "              precision    recall  f1-score   support\n",
      "\n",
      "       anger       0.90      0.91      0.90       275\n",
      "        fear       0.85      0.88      0.87       224\n",
      "         joy       0.89      0.93      0.91       695\n",
      "        love       0.80      0.69      0.74       159\n",
      "     sadness       0.95      0.92      0.93       581\n",
      "    surprise       0.68      0.59      0.63        66\n",
      "\n",
      "    accuracy                           0.89      2000\n",
      "   macro avg       0.85      0.82      0.83      2000\n",
      "weighted avg       0.89      0.89      0.89      2000\n",
      "\n"
     ]
    }
   ],
   "source": [
    "##Classification Report\n",
    "print(classification_report(y_test, y_pred))"
   ]
  },
  {
   "cell_type": "markdown",
   "metadata": {},
   "source": [
    "## Results"
   ]
  },
  {
   "cell_type": "code",
   "execution_count": 62,
   "metadata": {
    "execution": {
     "iopub.execute_input": "2023-01-05T10:12:37.703751Z",
     "iopub.status.busy": "2023-01-05T10:12:37.703396Z",
     "iopub.status.idle": "2023-01-05T10:12:37.723893Z",
     "shell.execute_reply": "2023-01-05T10:12:37.722892Z",
     "shell.execute_reply.started": "2023-01-05T10:12:37.703718Z"
    }
   },
   "outputs": [
    {
     "data": {
      "text/html": [
       "<div>\n",
       "<style scoped>\n",
       "    .dataframe tbody tr th:only-of-type {\n",
       "        vertical-align: middle;\n",
       "    }\n",
       "\n",
       "    .dataframe tbody tr th {\n",
       "        vertical-align: top;\n",
       "    }\n",
       "\n",
       "    .dataframe thead th {\n",
       "        text-align: right;\n",
       "    }\n",
       "</style>\n",
       "<table border=\"1\" class=\"dataframe\">\n",
       "  <thead>\n",
       "    <tr style=\"text-align: right;\">\n",
       "      <th></th>\n",
       "      <th>Model</th>\n",
       "      <th>Accuracy</th>\n",
       "    </tr>\n",
       "  </thead>\n",
       "  <tbody>\n",
       "    <tr>\n",
       "      <th>0</th>\n",
       "      <td>Random Forest</td>\n",
       "      <td>0.89</td>\n",
       "    </tr>\n",
       "    <tr>\n",
       "      <th>1</th>\n",
       "      <td>Logistic Regression</td>\n",
       "      <td>0.87</td>\n",
       "    </tr>\n",
       "    <tr>\n",
       "      <th>2</th>\n",
       "      <td>Support Vector Machine</td>\n",
       "      <td>0.87</td>\n",
       "    </tr>\n",
       "    <tr>\n",
       "      <th>3</th>\n",
       "      <td>Decision Tree</td>\n",
       "      <td>0.86</td>\n",
       "    </tr>\n",
       "  </tbody>\n",
       "</table>\n",
       "</div>"
      ],
      "text/plain": [
       "                    Model  Accuracy\n",
       "0           Random Forest      0.89\n",
       "1     Logistic Regression      0.87\n",
       "2  Support Vector Machine      0.87\n",
       "3           Decision Tree      0.86"
      ]
     },
     "execution_count": 62,
     "metadata": {},
     "output_type": "execute_result"
    }
   ],
   "source": [
    "models = pd.DataFrame({\n",
    "    'Model': ['Logistic Regression', 'Decision Tree','Support Vector Machine','Random Forest'],\n",
    "    'Accuracy': [log_reg_accuracy.round(2), DT_accuracy.round(2), SVM_accuracy.round(2), RF_accuracy.round(2)]})\n",
    "\n",
    "models.sort_values(by='Accuracy', ascending=False).reset_index().drop(['index'], axis=1)\n",
    "\n",
    "colors = [\"purple\", \"green\", \"orange\", \"magenta\",\"blue\",\"black\"]\n",
    "sns.set_style(\"whitegrid\")\n",
    "plt.figure(figsize=(16,8))\n",
    "plt.ylabel(\"Accuracy %\")\n",
    "plt.xlabel(\"Algorithms\")\n",
    "sns.barplot(x=models['Model'],y=models['MAE'], palette=colors )\n",
    "plt.show()"
   ]
  },
  {
   "cell_type": "markdown",
   "metadata": {},
   "source": [
    "# Lime\n",
    "\n",
    "LIME, the acronym for local interpretable model-agnostic explanations, is a technique that approximates any black box machine learning model with a local, interpretable model to explain each individual prediction\n",
    "\n",
    "we need which words contributed the most in the predicition"
   ]
  },
  {
   "cell_type": "code",
   "execution_count": 67,
   "metadata": {
    "execution": {
     "iopub.execute_input": "2023-01-05T10:12:37.726297Z",
     "iopub.status.busy": "2023-01-05T10:12:37.725576Z",
     "iopub.status.idle": "2023-01-05T10:12:38.963397Z",
     "shell.execute_reply": "2023-01-05T10:12:38.962527Z",
     "shell.execute_reply.started": "2023-01-05T10:12:37.726254Z"
    }
   },
   "outputs": [
    {
     "name": "stdout",
     "output_type": "stream",
     "text": [
      "Actual Text :  feeling heartbroken im sure katniss\n",
      "Prediction :  sadness\n",
      "Actual :      sadness\n"
     ]
    }
   ],
   "source": [
    "#c_LR = make_pipeline(tfidf, clf)\n",
    "explainer_LR = LimeTextExplainer(class_names=RF.classes_)\n",
    "idx  = 15\n",
    "print(\"Actual Text : \", X_test[idx])\n",
    "print(\"Prediction : \", RF.predict(X_test)[idx])\n",
    "print(\"Actual :     \", y_test[idx])\n",
    "exp = explainer_LR.explain_instance(X_test[idx], RF.predict_proba,top_labels=5)\n",
    "exp.show_in_notebook()"
   ]
  },
  {
   "cell_type": "markdown",
   "metadata": {},
   "source": [
    "## Choosing Random Forest"
   ]
  },
  {
   "cell_type": "markdown",
   "metadata": {},
   "source": [
    "### Downloading the model"
   ]
  },
  {
   "cell_type": "code",
   "execution_count": 66,
   "metadata": {},
   "outputs": [
    {
     "data": {
      "text/plain": [
       "['model.pickle']"
      ]
     },
     "execution_count": 66,
     "metadata": {},
     "output_type": "execute_result"
    }
   ],
   "source": [
    "import joblib\n",
    "filename = 'model.pickle' \n",
    "joblib.dump(RF, filename)"
   ]
  },
  {
   "cell_type": "markdown",
   "metadata": {},
   "source": [
    "# Better way?\n",
    "Word embedding using this glove and use a sequance model "
   ]
  }
 ],
 "metadata": {
  "kernelspec": {
   "display_name": "Python 3 (ipykernel)",
   "language": "python",
   "name": "python3"
  },
  "language_info": {
   "codemirror_mode": {
    "name": "ipython",
    "version": 3
   },
   "file_extension": ".py",
   "mimetype": "text/x-python",
   "name": "python",
   "nbconvert_exporter": "python",
   "pygments_lexer": "ipython3",
   "version": "3.9.13"
  }
 },
 "nbformat": 4,
 "nbformat_minor": 4
}
